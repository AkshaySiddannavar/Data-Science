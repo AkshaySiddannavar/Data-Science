{
 "cells": [
  {
   "cell_type": "code",
   "execution_count": 1,
   "id": "394acbba",
   "metadata": {},
   "outputs": [],
   "source": [
    "import numpy as np"
   ]
  },
  {
   "cell_type": "code",
   "execution_count": 15,
   "id": "68b22719",
   "metadata": {},
   "outputs": [],
   "source": [
    "a = np.array([1,2,3],dtype = 'f')"
   ]
  },
  {
   "cell_type": "code",
   "execution_count": 16,
   "id": "61f8b4b4",
   "metadata": {},
   "outputs": [
    {
     "name": "stdout",
     "output_type": "stream",
     "text": [
      "[1. 2. 3.]\n"
     ]
    }
   ],
   "source": [
    "print(a)"
   ]
  },
  {
   "cell_type": "code",
   "execution_count": 17,
   "id": "6115009e",
   "metadata": {},
   "outputs": [
    {
     "data": {
      "text/plain": [
       "dtype('float32')"
      ]
     },
     "execution_count": 17,
     "metadata": {},
     "output_type": "execute_result"
    }
   ],
   "source": [
    "a.dtype"
   ]
  },
  {
   "cell_type": "code",
   "execution_count": 20,
   "id": "59258ff0",
   "metadata": {},
   "outputs": [
    {
     "data": {
      "text/plain": [
       "numpy.ndarray"
      ]
     },
     "execution_count": 20,
     "metadata": {},
     "output_type": "execute_result"
    }
   ],
   "source": [
    "type(a)"
   ]
  },
  {
   "cell_type": "code",
   "execution_count": 27,
   "id": "8d31c049",
   "metadata": {},
   "outputs": [],
   "source": [
    "b = np.array([[[1,2,3],[1,2,3],[1,2,3]]])"
   ]
  },
  {
   "cell_type": "code",
   "execution_count": 28,
   "id": "c2179dad",
   "metadata": {},
   "outputs": [
    {
     "data": {
      "text/plain": [
       "dtype('int32')"
      ]
     },
     "execution_count": 28,
     "metadata": {},
     "output_type": "execute_result"
    }
   ],
   "source": [
    "b.dtype"
   ]
  },
  {
   "cell_type": "code",
   "execution_count": 29,
   "id": "64412cf1",
   "metadata": {},
   "outputs": [
    {
     "data": {
      "text/plain": [
       "numpy.ndarray"
      ]
     },
     "execution_count": 29,
     "metadata": {},
     "output_type": "execute_result"
    }
   ],
   "source": [
    "type(b)"
   ]
  },
  {
   "cell_type": "code",
   "execution_count": 30,
   "id": "0b8ffab9",
   "metadata": {},
   "outputs": [
    {
     "data": {
      "text/plain": [
       "3"
      ]
     },
     "execution_count": 30,
     "metadata": {},
     "output_type": "execute_result"
    }
   ],
   "source": [
    "b.ndim"
   ]
  },
  {
   "cell_type": "markdown",
   "id": "d7277275",
   "metadata": {},
   "source": [
    "### Dimensions of each array in an n dimensional array should be same\n",
    "### Or else it will be treated as an 1 D array"
   ]
  },
  {
   "cell_type": "code",
   "execution_count": 32,
   "id": "41f6d250",
   "metadata": {},
   "outputs": [
    {
     "name": "stderr",
     "output_type": "stream",
     "text": [
      "C:\\Users\\Asus\\AppData\\Local\\Temp/ipykernel_11028/1959871206.py:1: VisibleDeprecationWarning: Creating an ndarray from ragged nested sequences (which is a list-or-tuple of lists-or-tuples-or ndarrays with different lengths or shapes) is deprecated. If you meant to do this, you must specify 'dtype=object' when creating the ndarray.\n",
      "  c = np.array([[1,2,3],[4,5,6,7]])\n"
     ]
    }
   ],
   "source": [
    "c = np.array([[1,2,3],[4,5,6,7]])"
   ]
  },
  {
   "cell_type": "markdown",
   "id": "b02ec973",
   "metadata": {},
   "source": [
    "###### 1 D array = [1,2,3]\n",
    "###### 2 D array = 2 D matrix \n",
    "[  \n",
    "[1,2,3]  \n",
    "[1,2,3]  \n",
    "]\n",
    "###### 3 D array = [[[1,2,3],[1,2,3],[1,2,3]]] \n",
    "###### single element having each given array one behind another"
   ]
  },
  {
   "cell_type": "code",
   "execution_count": 33,
   "id": "faec1e0f",
   "metadata": {},
   "outputs": [],
   "source": [
    "c = np.array([[1,2,3,4],[4,5,6,7]])"
   ]
  },
  {
   "cell_type": "code",
   "execution_count": 34,
   "id": "9202c751",
   "metadata": {},
   "outputs": [
    {
     "data": {
      "text/plain": [
       "8"
      ]
     },
     "execution_count": 34,
     "metadata": {},
     "output_type": "execute_result"
    }
   ],
   "source": [
    "c.size #Number of elements"
   ]
  },
  {
   "cell_type": "code",
   "execution_count": 35,
   "id": "a12ce4ee",
   "metadata": {},
   "outputs": [
    {
     "data": {
      "text/plain": [
       "(2, 4)"
      ]
     },
     "execution_count": 35,
     "metadata": {},
     "output_type": "execute_result"
    }
   ],
   "source": [
    "c.shape #l, w, d"
   ]
  },
  {
   "cell_type": "code",
   "execution_count": 37,
   "id": "f50d9e19",
   "metadata": {},
   "outputs": [
    {
     "data": {
      "text/plain": [
       "32"
      ]
     },
     "execution_count": 37,
     "metadata": {},
     "output_type": "execute_result"
    }
   ],
   "source": [
    "c.nbytes #how many bytes"
   ]
  },
  {
   "cell_type": "code",
   "execution_count": 39,
   "id": "753c1e17",
   "metadata": {},
   "outputs": [
    {
     "data": {
      "text/plain": [
       "32"
      ]
     },
     "execution_count": 39,
     "metadata": {},
     "output_type": "execute_result"
    }
   ],
   "source": [
    "c.sum()"
   ]
  },
  {
   "cell_type": "markdown",
   "id": "7b5be626",
   "metadata": {},
   "source": [
    "###### press tab twice to get intellisense"
   ]
  },
  {
   "cell_type": "code",
   "execution_count": null,
   "id": "238006d8",
   "metadata": {},
   "outputs": [],
   "source": []
  }
 ],
 "metadata": {
  "kernelspec": {
   "display_name": "Python 3 (ipykernel)",
   "language": "python",
   "name": "python3"
  },
  "language_info": {
   "codemirror_mode": {
    "name": "ipython",
    "version": 3
   },
   "file_extension": ".py",
   "mimetype": "text/x-python",
   "name": "python",
   "nbconvert_exporter": "python",
   "pygments_lexer": "ipython3",
   "version": "3.10.4"
  }
 },
 "nbformat": 4,
 "nbformat_minor": 5
}
