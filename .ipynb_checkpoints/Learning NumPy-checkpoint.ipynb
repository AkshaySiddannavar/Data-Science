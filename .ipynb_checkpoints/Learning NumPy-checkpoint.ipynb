{
 "cells": [
  {
   "cell_type": "code",
   "execution_count": 1,
   "id": "394acbba",
   "metadata": {},
   "outputs": [],
   "source": [
    "import numpy as np"
   ]
  },
  {
   "cell_type": "code",
   "execution_count": 2,
   "id": "68b22719",
   "metadata": {},
   "outputs": [],
   "source": [
    "a = np.array([1,2,3],dtype = 'f')"
   ]
  },
  {
   "cell_type": "code",
   "execution_count": 3,
   "id": "61f8b4b4",
   "metadata": {},
   "outputs": [
    {
     "name": "stdout",
     "output_type": "stream",
     "text": [
      "[1. 2. 3.]\n"
     ]
    }
   ],
   "source": [
    "print(a)"
   ]
  },
  {
   "cell_type": "code",
   "execution_count": 4,
   "id": "6115009e",
   "metadata": {},
   "outputs": [
    {
     "data": {
      "text/plain": [
       "dtype('float32')"
      ]
     },
     "execution_count": 4,
     "metadata": {},
     "output_type": "execute_result"
    }
   ],
   "source": [
    "a.dtype"
   ]
  },
  {
   "cell_type": "code",
   "execution_count": 5,
   "id": "59258ff0",
   "metadata": {},
   "outputs": [
    {
     "data": {
      "text/plain": [
       "numpy.ndarray"
      ]
     },
     "execution_count": 5,
     "metadata": {},
     "output_type": "execute_result"
    }
   ],
   "source": [
    "type(a)"
   ]
  },
  {
   "cell_type": "code",
   "execution_count": 6,
   "id": "8d31c049",
   "metadata": {},
   "outputs": [],
   "source": [
    "b = np.array([[[1,2,3],[1,2,3],[1,2,3]]])"
   ]
  },
  {
   "cell_type": "code",
   "execution_count": 7,
   "id": "c2179dad",
   "metadata": {},
   "outputs": [
    {
     "data": {
      "text/plain": [
       "dtype('int32')"
      ]
     },
     "execution_count": 7,
     "metadata": {},
     "output_type": "execute_result"
    }
   ],
   "source": [
    "b.dtype"
   ]
  },
  {
   "cell_type": "code",
   "execution_count": 8,
   "id": "64412cf1",
   "metadata": {},
   "outputs": [
    {
     "data": {
      "text/plain": [
       "numpy.ndarray"
      ]
     },
     "execution_count": 8,
     "metadata": {},
     "output_type": "execute_result"
    }
   ],
   "source": [
    "type(b)"
   ]
  },
  {
   "cell_type": "code",
   "execution_count": 9,
   "id": "0b8ffab9",
   "metadata": {},
   "outputs": [
    {
     "data": {
      "text/plain": [
       "3"
      ]
     },
     "execution_count": 9,
     "metadata": {},
     "output_type": "execute_result"
    }
   ],
   "source": [
    "b.ndim"
   ]
  },
  {
   "cell_type": "markdown",
   "id": "d7277275",
   "metadata": {},
   "source": [
    "### Dimensions of each array in an n dimensional array should be same\n",
    "### Or else it will be treated as an 1 D array"
   ]
  },
  {
   "cell_type": "code",
   "execution_count": 10,
   "id": "41f6d250",
   "metadata": {},
   "outputs": [
    {
     "name": "stderr",
     "output_type": "stream",
     "text": [
      "C:\\Users\\Asus\\AppData\\Local\\Temp/ipykernel_19640/1959871206.py:1: VisibleDeprecationWarning: Creating an ndarray from ragged nested sequences (which is a list-or-tuple of lists-or-tuples-or ndarrays with different lengths or shapes) is deprecated. If you meant to do this, you must specify 'dtype=object' when creating the ndarray.\n",
      "  c = np.array([[1,2,3],[4,5,6,7]])\n"
     ]
    }
   ],
   "source": [
    "c = np.array([[1,2,3],[4,5,6,7]])"
   ]
  },
  {
   "cell_type": "markdown",
   "id": "b02ec973",
   "metadata": {},
   "source": [
    "###### 1 D array = [1,2,3]\n",
    "###### 2 D array = 2 D matrix \n",
    "[  \n",
    "[1,2,3]  \n",
    "[1,2,3]  \n",
    "]\n",
    "###### 3 D array = [[[1,2,3],[1,2,3],[1,2,3]]] \n",
    "###### single element having each given array one behind another"
   ]
  },
  {
   "cell_type": "code",
   "execution_count": 11,
   "id": "faec1e0f",
   "metadata": {},
   "outputs": [],
   "source": [
    "c = np.array([[1,2,3,4],[4,5,6,7]])"
   ]
  },
  {
   "cell_type": "code",
   "execution_count": 12,
   "id": "9202c751",
   "metadata": {},
   "outputs": [
    {
     "data": {
      "text/plain": [
       "8"
      ]
     },
     "execution_count": 12,
     "metadata": {},
     "output_type": "execute_result"
    }
   ],
   "source": [
    "c.size #Number of elements"
   ]
  },
  {
   "cell_type": "code",
   "execution_count": 13,
   "id": "a12ce4ee",
   "metadata": {},
   "outputs": [
    {
     "data": {
      "text/plain": [
       "(2, 4)"
      ]
     },
     "execution_count": 13,
     "metadata": {},
     "output_type": "execute_result"
    }
   ],
   "source": [
    "c.shape #l, w, d"
   ]
  },
  {
   "cell_type": "code",
   "execution_count": 14,
   "id": "f50d9e19",
   "metadata": {},
   "outputs": [
    {
     "data": {
      "text/plain": [
       "32"
      ]
     },
     "execution_count": 14,
     "metadata": {},
     "output_type": "execute_result"
    }
   ],
   "source": [
    "c.nbytes #how many bytes"
   ]
  },
  {
   "cell_type": "code",
   "execution_count": 15,
   "id": "753c1e17",
   "metadata": {},
   "outputs": [
    {
     "data": {
      "text/plain": [
       "32"
      ]
     },
     "execution_count": 15,
     "metadata": {},
     "output_type": "execute_result"
    }
   ],
   "source": [
    "c.sum()"
   ]
  },
  {
   "cell_type": "markdown",
   "id": "7b5be626",
   "metadata": {},
   "source": [
    "###### press tab twice to get intellisense"
   ]
  },
  {
   "cell_type": "code",
   "execution_count": 16,
   "id": "238006d8",
   "metadata": {},
   "outputs": [],
   "source": [
    "a = np.arange(2,100,2) #np.arange() it returns a complete array that we want"
   ]
  },
  {
   "cell_type": "code",
   "execution_count": 17,
   "id": "abd194c1",
   "metadata": {},
   "outputs": [
    {
     "name": "stdout",
     "output_type": "stream",
     "text": [
      "[ 2  4  6  8 10 12 14 16 18 20 22 24 26 28 30 32 34 36 38 40 42 44 46 48\n",
      " 50 52 54 56 58 60 62 64 66 68 70 72 74 76 78 80 82 84 86 88 90 92 94 96\n",
      " 98]\n"
     ]
    }
   ],
   "source": [
    "print(a)"
   ]
  },
  {
   "cell_type": "code",
   "execution_count": 19,
   "id": "ca4d36e7",
   "metadata": {},
   "outputs": [
    {
     "name": "stdout",
     "output_type": "stream",
     "text": [
      "range(2, 100, 2)\n"
     ]
    }
   ],
   "source": [
    "print(range(2,100,2)) #range is an iterator it returns each number individually and doesn't return a list\n",
    "#that saves a lot of time and space"
   ]
  },
  {
   "cell_type": "code",
   "execution_count": 21,
   "id": "c03e25f6",
   "metadata": {},
   "outputs": [
    {
     "name": "stdout",
     "output_type": "stream",
     "text": [
      "[2, 4, 6, 8, 10, 12, 14, 16, 18, 20, 22, 24, 26, 28, 30, 32, 34, 36, 38, 40, 42, 44, 46, 48, 50, 52, 54, 56, 58, 60, 62, 64, 66, 68, 70, 72, 74, 76, 78, 80, 82, 84, 86, 88, 90, 92, 94, 96, 98]\n"
     ]
    }
   ],
   "source": [
    "#if we want a list in a given range\n",
    "\n",
    "print(list(range(2,100,2)))"
   ]
  },
  {
   "cell_type": "code",
   "execution_count": 25,
   "id": "33fbab77",
   "metadata": {},
   "outputs": [
    {
     "name": "stdout",
     "output_type": "stream",
     "text": [
      "[6 8 1 3 0 5 2 4 9 7]\n"
     ]
    }
   ],
   "source": [
    "v = np.random.permutation(np.arange(10))\n",
    "print(v)"
   ]
  },
  {
   "cell_type": "code",
   "execution_count": 34,
   "id": "ac440422",
   "metadata": {},
   "outputs": [
    {
     "name": "stdout",
     "output_type": "stream",
     "text": [
      "0.05263811406277907\n"
     ]
    }
   ],
   "source": [
    "v = np.random.random()\n",
    "print(v)"
   ]
  },
  {
   "cell_type": "code",
   "execution_count": 38,
   "id": "4c9cd633",
   "metadata": {},
   "outputs": [
    {
     "data": {
      "text/plain": [
       "246"
      ]
     },
     "execution_count": 38,
     "metadata": {},
     "output_type": "execute_result"
    }
   ],
   "source": [
    "v = np.random.randint(1,300)\n",
    "v"
   ]
  },
  {
   "cell_type": "code",
   "execution_count": 44,
   "id": "34ba938f",
   "metadata": {},
   "outputs": [
    {
     "data": {
      "text/plain": [
       "array([[[0.17517946, 0.25937258],\n",
       "        [0.55671664, 0.76387394],\n",
       "        [0.51003078, 0.61892104],\n",
       "        [0.40678991, 0.27846426],\n",
       "        [0.63173765, 0.68047728],\n",
       "        [0.20910103, 0.34479788]],\n",
       "\n",
       "       [[0.97783172, 0.10886196],\n",
       "        [0.18849191, 0.56234979],\n",
       "        [0.44839496, 0.66320118],\n",
       "        [0.03041372, 0.06094829],\n",
       "        [0.17421095, 0.88732871],\n",
       "        [0.31956443, 0.68340201]],\n",
       "\n",
       "       [[0.79415718, 0.75452421],\n",
       "        [0.00621407, 0.79531905],\n",
       "        [0.27368938, 0.41177202],\n",
       "        [0.98620743, 0.77608619],\n",
       "        [0.24812524, 0.47207759],\n",
       "        [0.61901956, 0.80853871]]])"
      ]
     },
     "execution_count": 44,
     "metadata": {},
     "output_type": "execute_result"
    }
   ],
   "source": [
    "#create a random matrix\n",
    "\n",
    "v = np.random.rand(3,6,2)\n",
    "v"
   ]
  },
  {
   "cell_type": "code",
   "execution_count": 46,
   "id": "14c6702d",
   "metadata": {},
   "outputs": [
    {
     "data": {
      "text/plain": [
       "3"
      ]
     },
     "execution_count": 46,
     "metadata": {},
     "output_type": "execute_result"
    }
   ],
   "source": [
    "v.ndim"
   ]
  },
  {
   "cell_type": "code",
   "execution_count": 52,
   "id": "a5179598",
   "metadata": {
    "collapsed": true
   },
   "outputs": [
    {
     "data": {
      "text/plain": [
       "array([ 1.28209203e+00, -2.65092680e-01, -4.94005487e-01,  3.17138204e-01,\n",
       "       -5.04658177e-01, -7.80453159e-01, -3.34974895e-01,  1.11667762e-01,\n",
       "        9.32311481e-01,  1.21409034e+00,  9.88995764e-01,  7.39883675e-01,\n",
       "       -8.05080448e-01, -9.45782502e-01, -1.81537716e-01, -1.22469730e+00,\n",
       "        3.24482048e-01, -3.19809958e-01, -5.56564282e-01, -6.84549259e-01,\n",
       "        7.56940380e-01, -1.37831176e+00,  6.52725093e-01, -1.32731597e+00,\n",
       "       -5.86484351e-01, -1.52635417e-02, -4.48168601e-01, -1.21820501e-03,\n",
       "       -3.54665177e-01,  8.20182481e-01, -4.62424429e-01,  6.44517921e-01,\n",
       "       -3.20859286e-01, -8.25903883e-01, -8.74748367e-01, -8.29240736e-01,\n",
       "       -3.55040403e-01,  8.93505349e-01,  4.85015357e-04, -2.55610059e-01,\n",
       "        9.87554948e-01,  8.43634984e-01, -1.88596254e-01, -4.20362429e-01,\n",
       "        1.51626583e+00,  2.65813181e+00, -1.57568795e-01,  9.37805616e-02,\n",
       "       -8.54840479e-01,  2.17604587e-02, -1.42466783e+00, -1.07327732e+00,\n",
       "       -1.60932029e-01,  8.00280450e-01,  8.81545328e-01, -1.20671693e+00,\n",
       "        1.84055768e-02,  4.59423043e-01, -1.59307926e+00, -6.08536243e-01,\n",
       "        2.06520663e-01, -3.88484431e-01, -2.83290898e+00,  1.63516675e+00,\n",
       "       -1.36488863e+00,  9.17749403e-01, -1.26478675e+00, -3.67369048e-01,\n",
       "        4.18347674e-02, -1.96152279e-01,  1.95689656e-01, -6.96036278e-01,\n",
       "       -4.09092959e-01, -8.62745018e-01, -2.20729264e+00,  6.32821139e-01,\n",
       "        4.38232957e-01,  1.52552291e+00, -1.36250020e-01,  1.63302557e+00,\n",
       "       -4.62798808e-01, -1.50619156e+00, -1.13564215e+00,  2.54563478e+00,\n",
       "        9.35578233e-01,  5.02385032e-01,  5.44175370e-01,  3.97656559e-01,\n",
       "       -3.29339365e-01,  1.58879256e-01, -1.11785141e+00,  1.18819570e+00,\n",
       "        1.22958299e-01,  1.73876031e+00,  1.71769187e+00, -6.20917733e-01,\n",
       "        8.99564952e-01,  1.12956949e-01, -5.65770727e-01, -8.28612818e-01,\n",
       "        1.02789080e+00, -1.37750925e+00,  1.14394007e+00, -1.71534541e+00,\n",
       "       -1.08845970e-01, -7.44359767e-01, -3.39858385e-01, -1.75001837e+00,\n",
       "        9.17230870e-02, -3.60081653e-01,  1.59275898e-01, -4.97646598e-01,\n",
       "       -1.14331140e+00, -7.74563552e-02,  3.54820498e-01,  1.92444697e+00,\n",
       "       -1.17900239e+00, -7.10676144e-01,  2.47630496e-01, -6.33363635e-01,\n",
       "       -2.16146817e+00, -1.83212141e+00, -6.29977436e-01, -5.25486051e-02,\n",
       "       -2.92532376e-02, -5.52277302e-01, -2.25140283e+00,  2.16555240e-01,\n",
       "        1.22794250e+00, -9.44403036e-01, -1.69448326e-01, -1.05808029e+00,\n",
       "       -7.31258249e-01,  1.19505315e+00, -7.61494609e-01,  2.67918255e-02,\n",
       "       -1.19434916e-01, -9.16710172e-02, -9.79073736e-01, -6.18347985e-01,\n",
       "       -4.51803560e-01, -2.57221825e-01, -5.50016938e-01, -2.48877989e-01,\n",
       "       -6.96601591e-01, -3.86864926e-01, -1.36096997e+00,  6.80414692e-01,\n",
       "        5.71770105e-01,  1.19221151e-01,  1.71245809e+00,  6.32753697e-01,\n",
       "       -4.40073119e-01,  5.47904408e-01,  9.86007235e-01, -2.71278650e-01,\n",
       "       -2.13354998e-01, -2.58868409e-01,  2.66741808e-01, -2.02545137e-01,\n",
       "       -1.30358491e-01, -1.48528137e+00,  6.37080334e-01,  1.22925074e-01,\n",
       "       -5.23370188e-01,  2.27231185e-01, -8.24044890e-02,  1.46151957e-01,\n",
       "       -3.97345638e-02, -1.14802167e-01, -9.79270172e-01, -1.17626517e+00,\n",
       "       -1.15666603e+00, -2.40713843e-01, -4.59228039e-01, -9.30559441e-01,\n",
       "       -8.31981318e-01, -3.13803603e-01, -7.84766336e-01, -2.08689155e-01,\n",
       "        3.34630370e-01, -7.93986205e-01, -6.12050966e-01,  8.53404652e-01,\n",
       "        6.29824813e-01, -6.94028918e-01,  8.87481885e-01, -3.20535827e-01,\n",
       "       -1.22464973e+00, -2.05871432e+00, -4.80242405e-01,  3.67710747e-01,\n",
       "        4.43294424e-01,  4.25101224e-02, -4.17258260e-01,  1.71114680e-01,\n",
       "        2.65619990e+00, -1.04072703e+00, -1.25044590e-01,  1.52968030e+00,\n",
       "        1.68527515e-01, -3.64734870e-01, -1.16769695e+00,  1.47051607e-01,\n",
       "       -3.60878691e-01, -6.74879639e-01,  7.32865716e-01, -4.40201082e-01,\n",
       "        6.13939771e-01, -4.30047813e-01,  4.09519371e-01,  1.86823567e+00,\n",
       "        2.56391318e+00, -1.78791761e+00,  6.11840835e-01,  3.40679927e-01,\n",
       "        1.28600583e+00, -4.23224790e-01, -4.76010549e-02, -5.54292984e-01,\n",
       "       -1.54843355e-01,  5.22060075e-01,  4.63025307e-01,  8.00022815e-01,\n",
       "        6.90542462e-01, -6.44528028e-01,  8.14641560e-01, -4.48653494e-01,\n",
       "        2.82803156e-02,  3.26051368e-01, -5.28597163e-01, -3.28300310e-01,\n",
       "       -6.49302669e-02,  1.45806652e-01,  8.38741640e-01,  2.47889119e-01,\n",
       "       -5.67859789e-01, -1.78253773e+00,  1.11249299e+00,  2.69737686e+00,\n",
       "        7.49824774e-01, -9.65788362e-01,  7.09167517e-01, -5.38217942e-01,\n",
       "       -1.59913436e+00,  9.49850829e-01, -1.50400231e+00,  6.91398123e-01,\n",
       "        3.66665155e-01,  3.61994350e-02, -1.29048683e+00,  1.06972854e+00,\n",
       "       -6.94394512e-01, -1.54329098e+00,  1.06427144e-01,  2.88092955e-02,\n",
       "        5.22876674e-01, -5.34132149e-01, -1.94878197e-01,  9.88919440e-02,\n",
       "        4.73101419e-04,  4.29518825e-01,  1.61016899e+00, -5.15159415e-01,\n",
       "       -1.30899383e-01,  9.35549594e-01,  1.13577272e+00, -4.08727524e-01,\n",
       "       -1.97790399e-01, -4.48647845e-02,  1.69627519e+00,  3.82908491e-02,\n",
       "        9.06783493e-02, -7.08358821e-01, -1.39152655e-01,  7.63649395e-01,\n",
       "        4.33754712e-02,  7.11677435e-01,  8.63944452e-01, -2.15765007e+00,\n",
       "       -1.13205345e+00, -3.41006139e-01,  1.29053771e+00,  3.95502703e-02,\n",
       "       -8.01382453e-01,  9.80845924e-01,  9.22325025e-01, -8.05442962e-01,\n",
       "       -3.39569834e-01, -2.49476543e-01, -1.17533789e-03, -6.72052151e-01,\n",
       "       -1.48935556e+00, -1.17169984e+00, -1.24167619e-01, -1.00760320e-01,\n",
       "        1.57933643e+00,  1.00062193e-01,  2.07015991e+00, -1.32634182e+00,\n",
       "       -9.54157766e-02, -8.95038465e-01, -8.43174097e-01, -4.68081160e-02,\n",
       "        3.55175120e-02,  6.43262913e-01, -6.19573868e-01,  1.16206452e+00,\n",
       "        1.44103663e+00,  1.57218229e+00,  1.45386798e+00, -4.06959404e-01,\n",
       "       -3.72291085e-01,  2.96390884e-01,  4.82100983e-01, -1.35295463e+00,\n",
       "        5.34046651e-01, -1.34930848e+00,  2.90582883e-02,  4.80305244e-01,\n",
       "       -2.84378527e-01,  2.16342040e+00, -2.73403113e-01, -5.24808939e-01,\n",
       "       -7.95528236e-01,  1.82900344e-01, -7.15496275e-01, -3.87664652e-01,\n",
       "        9.49395387e-01,  2.02472203e-01, -1.67862739e+00, -1.99211640e+00,\n",
       "       -6.95981838e-02,  1.93274342e-01, -1.02253059e+00, -1.66942317e+00,\n",
       "       -1.38358243e-01, -2.50339071e-01, -1.25606972e+00, -6.43991494e-02,\n",
       "        8.10272817e-01, -1.42064925e+00, -6.74940829e-01, -1.39633629e+00,\n",
       "        8.39411324e-01,  7.83637183e-01,  1.73738502e+00,  2.07431117e-01,\n",
       "       -3.54626465e-01,  3.03698762e-01, -4.69524532e-01,  7.59741316e-02,\n",
       "       -1.64679053e-01,  1.87272512e+00, -4.20019540e-01,  3.60461289e-01,\n",
       "        9.55814495e-01, -2.24618901e+00,  1.63031597e+00, -6.95272017e-01,\n",
       "        4.10792591e-01, -1.81981001e+00, -1.03726670e-01,  1.52981433e-01,\n",
       "        4.62320326e-01, -5.85364210e-01, -9.15688459e-02,  1.09068684e+00,\n",
       "        3.20162163e-01, -1.95292898e-01, -1.17063367e+00,  6.80243552e-01,\n",
       "       -2.24339894e+00, -1.77337748e-01, -3.74263627e-01,  3.66837240e-01,\n",
       "        1.53228991e+00, -3.83903897e-01,  9.62043902e-02,  3.94298894e-02,\n",
       "        5.83926770e-01, -9.47426228e-01,  5.58546576e-01, -1.26549255e+00,\n",
       "        5.81228413e-01, -5.30816631e-01, -3.71868404e-01,  2.20276224e+00,\n",
       "        7.66216354e-01,  1.03894078e+00,  1.82234126e+00,  3.70509264e-01,\n",
       "       -1.15366663e+00,  6.82406705e-01, -1.18174249e+00,  2.57193936e-01,\n",
       "        4.81393424e-02,  8.62178623e-01, -4.43866405e-01,  1.94494857e+00,\n",
       "        9.18796575e-01, -1.92623709e+00,  7.30238227e-01,  5.63806195e-01,\n",
       "       -6.50713321e-01,  1.41969913e+00, -3.53097225e-01,  1.84260767e+00,\n",
       "       -1.52414241e-01,  9.17173135e-01, -5.45129328e-01,  1.00080242e-01,\n",
       "       -2.43601748e-01, -6.85397425e-01, -5.26513140e-01,  2.61188726e-01,\n",
       "        8.78098677e-01,  5.44610717e-01,  1.66528653e+00,  5.07053403e-01,\n",
       "        2.67613720e+00,  1.11635765e+00,  7.13919028e-01,  5.99569097e-01,\n",
       "        1.13716658e+00, -5.76218527e-01, -2.96802271e-01, -1.48004425e+00,\n",
       "        4.62308312e-01, -9.51460726e-01, -1.99348140e+00, -1.18251883e+00,\n",
       "       -1.51184788e-01,  1.96050566e-01,  1.54974191e+00, -7.95408310e-01,\n",
       "        7.22900127e-01, -4.67414659e-01, -8.65927797e-01,  7.04039403e-01,\n",
       "        5.29264644e-01,  5.93806155e-01,  6.66846130e-02, -7.41095562e-01,\n",
       "        7.04235384e-02,  2.20675662e-01, -7.83138263e-01,  8.99042494e-01,\n",
       "       -2.61230982e-01, -3.09170503e-01,  5.54280521e-01,  2.61676586e+00,\n",
       "        2.78238843e-01,  5.27027461e-01,  3.35441144e-01,  1.60485208e+00,\n",
       "       -6.22823255e-01,  1.77346722e+00, -1.49882989e+00,  9.60152810e-02,\n",
       "       -1.91367824e-01,  1.78644766e+00, -1.07866803e+00,  3.12744043e-02,\n",
       "        8.31784057e-01,  3.70123132e-01, -1.67044681e+00, -2.07457936e-01,\n",
       "       -8.15382287e-01,  1.15302405e+00, -1.23147854e+00, -5.40816693e-01,\n",
       "       -1.21911578e+00,  1.31303890e+00, -8.00667298e-01,  9.87603470e-01,\n",
       "       -7.97231522e-01,  4.43001517e-01, -1.57395644e+00, -9.57634497e-01,\n",
       "        8.90471145e-01,  1.95128158e-01, -8.66266597e-01, -4.98061112e-01,\n",
       "       -2.59346698e-01, -5.34018186e-01, -2.17419105e-01,  1.80327122e+00,\n",
       "        6.14318900e-01,  2.55606573e-01,  7.66817829e-01,  1.13660851e+00,\n",
       "        7.90379373e-01, -1.74899287e+00, -6.91536786e-01, -2.10171172e-01,\n",
       "        1.07617464e+00,  1.10661727e-01, -1.64992206e+00,  1.84617545e+00,\n",
       "       -7.48102427e-01, -4.80952654e-02,  3.44175912e-01,  2.47715191e-01,\n",
       "       -8.20493429e-01, -7.53935231e-01, -3.43373279e-01,  1.75578110e+00,\n",
       "       -1.87662623e+00,  2.70970578e+00,  3.23168324e-01, -8.53448747e-01,\n",
       "        7.18297501e-02,  1.60184171e-01,  7.59979493e-01,  5.09247011e-01,\n",
       "       -2.02225061e-01,  2.08871544e-01, -1.10975672e+00,  3.93369744e-01,\n",
       "        2.38327956e-01, -5.65101367e-01, -1.18131471e+00, -2.24688531e+00,\n",
       "        7.15732854e-01,  8.76347736e-02,  1.00117542e+00,  7.86788411e-01,\n",
       "       -6.70994716e-01,  3.54787716e-01,  4.38124192e-01, -1.34818213e+00,\n",
       "        7.53909620e-01,  3.10456703e-01,  3.93726996e-02, -1.02662339e+00,\n",
       "       -4.44090938e-01,  5.54629893e-02,  2.04558642e-01,  1.53493953e+00,\n",
       "       -8.93956131e-01, -2.87036081e-01, -7.31757445e-01,  8.20841142e-01,\n",
       "        8.28048250e-01,  4.54014193e-04,  2.65598282e+00,  3.17021574e-01,\n",
       "        1.37716853e+00, -1.61656661e+00,  2.79613669e+00, -1.92124892e+00,\n",
       "       -5.48308970e-01, -1.00919930e+00,  9.92138689e-02,  8.47924524e-01,\n",
       "        1.17566602e+00, -1.48512691e+00,  2.32947544e-01, -5.81365318e-01,\n",
       "        3.88326858e-01,  3.59740306e-01, -3.00595770e-02,  7.10857905e-01,\n",
       "        1.13411458e-01,  5.26039873e-01, -8.48321411e-01, -1.01868379e+00,\n",
       "        1.75359440e+00,  3.85067885e-01,  1.63114142e+00, -7.39903857e-02,\n",
       "        1.76451474e-04, -8.02719606e-01, -1.71932783e-01, -4.39916555e-01,\n",
       "        1.25659930e-01,  4.86658884e-02, -7.60005015e-01,  1.88808911e-01,\n",
       "       -4.96228969e-01,  2.53523600e-01, -6.73876980e-01, -2.01425862e+00,\n",
       "        6.87961357e-01, -6.28887901e-01, -1.11436123e+00,  3.23854334e-01,\n",
       "       -2.49952849e+00,  3.14246559e+00,  4.16390612e-02,  1.02080155e-01,\n",
       "        1.52300882e+00,  1.01127009e+00,  3.26866048e-01, -1.25632324e+00,\n",
       "       -1.87560326e+00, -9.82622944e-01,  9.49135863e-01, -5.95867421e-01,\n",
       "       -1.21456998e+00, -2.24837071e-01,  1.02413437e+00, -4.00841208e-01,\n",
       "        1.24157658e+00,  6.88637126e-01, -7.90019041e-01, -5.33069464e-01,\n",
       "       -6.06788729e-01,  4.37245980e-01, -1.05910516e+00, -8.05297500e-01,\n",
       "        1.18061514e+00, -2.66332168e-01, -5.35047847e-01, -1.86171990e-01,\n",
       "        1.41135961e+00,  4.14258097e-01, -4.19382844e-01, -2.71711363e-01,\n",
       "        7.14075297e-01,  1.25637368e+00, -1.61590595e-01, -1.45815614e+00,\n",
       "       -5.94854884e-01, -6.36417393e-01,  6.33816277e-01, -3.04149946e-01,\n",
       "       -1.43005312e+00, -7.50429412e-02,  8.61814791e-01,  5.03359482e-01,\n",
       "       -5.06524179e-01,  3.26947159e-01,  2.11316382e+00,  8.35872489e-01,\n",
       "       -1.76882157e+00,  9.93809654e-02, -4.95273540e-01, -8.66928926e-02,\n",
       "       -2.42781016e+00, -3.31054623e-01,  7.66392511e-01, -1.18100519e-01,\n",
       "        3.43965805e-01,  2.62775896e+00, -7.80888806e-01, -7.85101007e-02,\n",
       "       -1.41928173e+00,  1.09580380e-01,  6.62757645e-01, -1.71990536e-02,\n",
       "        9.93500854e-01,  1.01492628e+00,  9.09271937e-01,  7.55639387e-01,\n",
       "       -2.01517247e-01, -2.77555133e-01, -1.29745116e+00,  6.70946007e-01,\n",
       "        2.26634608e-01,  1.89873892e-01, -6.23125376e-01,  5.05536204e-01,\n",
       "       -4.55677575e-01, -6.16278836e-01,  2.49882964e+00,  2.08960936e+00,\n",
       "       -6.98832991e-01,  1.41152286e+00,  1.10110929e-01, -7.04867596e-01,\n",
       "        7.24490072e-01, -1.06825897e+00, -1.41010067e+00, -1.02207885e+00,\n",
       "        7.90989156e-01,  3.13427633e-01, -8.20560607e-01, -1.78663264e-01,\n",
       "       -1.07299272e+00, -1.42022376e-01, -8.81040649e-01,  7.20019394e-01,\n",
       "        9.11555236e-02, -1.39057874e+00,  1.12112761e+00, -3.46051509e-01,\n",
       "       -9.35034792e-01, -5.40682302e-01,  6.24818692e-01, -5.93201569e-01,\n",
       "        3.86361502e-01, -9.93094080e-01, -7.58944723e-02,  1.02109904e+00,\n",
       "       -5.39116862e-01, -4.87376175e-01, -2.34543481e-01,  1.05333602e+00,\n",
       "       -4.07351085e-01, -3.36516566e-01, -3.68616504e-01,  4.25558631e-01,\n",
       "       -5.66438005e-01, -3.03804133e-02, -3.18423867e-01,  1.19665508e-01,\n",
       "       -1.96701626e+00,  3.69436145e-01,  1.36310889e+00, -1.01582687e+00,\n",
       "       -3.04867139e-01, -2.31029519e+00,  7.48628851e-01, -1.05761390e+00,\n",
       "        4.03389481e-02, -3.45847762e-01,  1.08845268e+00,  6.51763741e-01,\n",
       "        6.89362058e-01,  2.55508869e-01,  1.86168118e-01, -1.20410253e+00,\n",
       "       -6.26672353e-01, -5.82669853e-01,  1.13445316e-01, -2.01418045e+00,\n",
       "       -1.34528242e+00, -7.35563398e-01, -1.39857102e+00,  6.33231294e-01,\n",
       "       -2.25740533e-01, -2.98514291e-01,  7.91061737e-01,  1.14130801e+00,\n",
       "       -1.62344737e-01, -1.78684329e-01, -6.00977037e-01, -1.24441018e+00,\n",
       "       -1.07674749e-01, -1.27176937e+00,  3.63694428e-01, -1.44338917e+00,\n",
       "        1.19141928e+00,  9.47757572e-01, -4.33225311e-01, -1.82785266e-01,\n",
       "       -7.56625151e-02, -3.49745209e-01,  2.93206694e-01, -2.24077469e+00,\n",
       "        2.57468855e-01,  8.12362582e-01, -1.25638412e+00, -1.44368339e-01,\n",
       "       -1.41509465e+00,  1.39773228e+00, -1.69107051e+00, -1.80258459e+00,\n",
       "       -6.00175322e-01, -1.00233559e+00, -2.52809232e-01,  1.85446275e+00,\n",
       "        4.85506990e-01,  4.74360556e-01,  2.63201485e+00, -1.60716063e+00,\n",
       "       -1.40616689e+00,  1.08556473e+00, -3.94818447e-01, -1.59217375e-01,\n",
       "        7.06183234e-01, -5.71985276e-01,  1.19566233e-01, -1.44199378e+00,\n",
       "       -1.17181726e+00, -1.19329900e+00,  3.55423789e-01, -4.19539940e-01,\n",
       "       -1.00066761e+00, -9.43888323e-01,  1.31966004e+00, -1.59914935e-01,\n",
       "        1.71624319e+00,  2.12978415e-02,  1.10977617e+00,  1.47421326e+00,\n",
       "        1.00359293e+00,  1.34620072e+00, -1.11116610e+00,  6.68516132e-01,\n",
       "       -5.86438006e-01, -2.13562900e+00,  8.86939510e-01, -1.82258799e+00,\n",
       "        7.55779902e-01, -5.72159785e-01,  2.72698686e+00, -1.03571781e+00,\n",
       "       -2.59317190e-02, -1.58224953e+00,  2.87786881e-01,  1.30752451e-01,\n",
       "       -1.05638905e+00,  1.99146326e+00,  8.21290972e-01,  4.41522692e-01,\n",
       "        1.15470845e-01, -1.01192549e+00,  1.71755215e+00, -1.06880864e+00,\n",
       "       -2.39896229e-01, -7.09190704e-01, -2.77515199e+00, -2.76185974e-03,\n",
       "       -9.61891827e-01,  1.26998715e+00,  5.49655452e-01,  2.12243002e-01,\n",
       "       -7.31427072e-01, -5.60480784e-01,  1.01410604e+00,  1.37837346e-01,\n",
       "       -7.84792862e-01,  1.90139083e+00,  3.06283677e-01, -1.57561915e+00,\n",
       "        9.28724771e-01, -5.07457069e-01,  9.01107826e-01, -1.48223210e+00,\n",
       "        7.70952410e-01,  1.27055932e+00,  2.85109221e-01,  5.37609058e-01,\n",
       "       -2.28252884e+00,  9.27469699e-01,  7.20697199e-01, -2.51491316e-01,\n",
       "       -8.09282260e-01,  9.52821462e-01,  1.53282049e+00,  1.38230965e+00,\n",
       "       -4.90648807e-01, -1.02586539e+00, -4.60060553e-01, -2.48063207e-01,\n",
       "        5.64314818e-01,  4.55587429e-01,  2.52405135e+00,  5.81948127e-01,\n",
       "       -2.50574518e-01, -1.35500466e+00, -1.03152884e+00,  1.01464072e+00,\n",
       "        7.23647242e-03,  8.79204483e-01,  2.44749528e-01,  1.15816404e+00,\n",
       "        3.54608983e-01, -7.69519900e-01,  1.95228646e-01,  2.95280688e-01,\n",
       "       -1.02656642e+00, -1.03105797e+00,  8.95998626e-01,  4.80143391e-01,\n",
       "       -7.04229740e-01,  6.21638431e-01, -2.07865530e+00, -2.09236828e+00,\n",
       "       -1.10869843e-01,  1.30821340e+00,  8.58273199e-01, -8.96318067e-01,\n",
       "        9.64656498e-01, -8.06483289e-01,  1.51282140e+00, -8.85991481e-02,\n",
       "       -1.02232600e-01,  3.20051428e-01,  3.64881695e-01,  1.34474966e+00,\n",
       "       -6.53983904e-01, -3.65700016e-01, -4.51547844e-01,  2.21293583e-01,\n",
       "       -1.78946852e-01,  1.82020776e+00,  3.02685071e-01,  1.43691198e+00,\n",
       "       -3.70566337e-01, -3.90880147e-01, -1.34258633e-01, -4.47209669e-01,\n",
       "       -4.27906347e-01, -1.01048408e+00, -8.48473283e-01, -3.75751108e-01,\n",
       "        5.54260506e-01, -1.51698761e+00, -4.04312002e-01, -4.83420247e-01,\n",
       "       -2.00370521e+00,  3.96871198e-01,  6.73989776e-01,  1.27587822e+00,\n",
       "       -3.41855309e-01,  5.67767068e-01,  9.32012768e-01, -1.50484335e+00,\n",
       "        7.32381987e-01,  2.51878976e-01,  1.26247187e+00, -4.72670262e-02,\n",
       "       -1.16742252e-01, -1.97575442e+00, -8.58358062e-01, -4.44358482e-01,\n",
       "       -1.47160262e+00, -2.56604372e-01,  8.30279926e-02,  2.43114994e-01,\n",
       "       -1.36060512e+00,  8.14271257e-01, -1.40427431e+00, -3.13953499e-01,\n",
       "        4.32036057e-01,  1.88811331e+00, -2.37379840e-01, -1.26352282e+00,\n",
       "        7.21201102e-01, -3.15348195e-01,  2.90041743e+00, -2.41659346e-01,\n",
       "        1.62966581e+00, -1.91783269e+00,  8.22750525e-01, -8.81277549e-01,\n",
       "        9.28739054e-01, -1.22479423e+00,  8.78808215e-01,  3.58165465e-01,\n",
       "       -2.74727782e-01, -1.02704337e+00,  4.95477938e-01,  1.48017957e+00,\n",
       "        1.51582373e+00,  2.00956712e-02, -5.72169888e-01,  3.96872341e-01,\n",
       "        7.23763379e-02, -1.16360466e-02, -5.86951882e-01,  9.12155819e-01,\n",
       "        6.34789116e-01, -1.07553649e+00, -2.09959695e-01, -3.78846038e-01,\n",
       "        5.29202809e-01, -5.81178280e-01, -2.28272878e+00,  6.19140054e-01,\n",
       "       -1.82172290e+00,  8.66990445e-01, -8.70223324e-01, -1.58368089e-01,\n",
       "       -1.04901297e+00, -4.86237830e-01, -6.13387055e-01, -1.05095220e-01,\n",
       "       -8.17863567e-01,  6.76095015e-03, -1.35349615e-01, -8.98883976e-01,\n",
       "        1.02373120e+00, -7.82370855e-01,  9.32957922e-01, -2.23802646e+00,\n",
       "        2.41548223e-01,  2.79482243e-03,  1.57832202e-01,  3.03178800e-01,\n",
       "        1.85177676e+00, -7.33933056e-01,  5.65965121e-01, -1.16136629e+00,\n",
       "       -5.80163880e-01,  9.70433804e-02,  8.07803531e-02,  6.00050909e-01,\n",
       "       -4.06589375e-01,  4.57606364e-01,  1.31470608e-01,  8.18821558e-01,\n",
       "       -3.14978332e-01,  7.85770352e-01,  9.01868973e-01,  1.10580564e+00])"
      ]
     },
     "execution_count": 52,
     "metadata": {},
     "output_type": "execute_result"
    }
   ],
   "source": [
    "v = np.random.randn(1000) #creating an array of 1000 numbers having normal / bell like distribution\n",
    "v"
   ]
  },
  {
   "cell_type": "code",
   "execution_count": 54,
   "id": "3efd6d86",
   "metadata": {
    "scrolled": true
   },
   "outputs": [
    {
     "data": {
      "text/plain": [
       "(array([ 13.,  35.,  95., 194., 259., 194., 131.,  56.,   8.,  15.]),\n",
       " array([-2.83290898, -2.23537153, -1.63783407, -1.04029661, -0.44275915,\n",
       "         0.15477831,  0.75231576,  1.34985322,  1.94739068,  2.54492814,\n",
       "         3.14246559]),\n",
       " <BarContainer object of 10 artists>)"
      ]
     },
     "execution_count": 54,
     "metadata": {},
     "output_type": "execute_result"
    },
    {
     "data": {
      "image/png": "[encoded data removed]",
      "text/plain": [
       "<Figure size 432x288 with 1 Axes>"
      ]
     },
     "metadata": {
      "needs_background": "light"
     },
     "output_type": "display_data"
    }
   ],
   "source": [
    "import matplotlib.pyplot as plt\n",
    "\n",
    "plt.hist(v)"
   ]
  },
  {
   "cell_type": "code",
   "execution_count": 55,
   "id": "1afb482b",
   "metadata": {},
   "outputs": [
    {
     "data": {
      "text/plain": [
       "array([ 0,  1,  2,  3,  4,  5,  6,  7,  8,  9, 10, 11, 12, 13, 14, 15, 16,\n",
       "       17, 18, 19, 20, 21, 22, 23, 24, 25, 26, 27, 28, 29, 30, 31, 32, 33,\n",
       "       34, 35, 36, 37, 38, 39, 40, 41, 42, 43, 44, 45, 46, 47, 48, 49, 50,\n",
       "       51, 52, 53, 54, 55, 56, 57, 58, 59, 60, 61, 62, 63, 64, 65, 66, 67,\n",
       "       68, 69, 70, 71, 72, 73, 74, 75, 76, 77, 78, 79, 80, 81, 82, 83, 84,\n",
       "       85, 86, 87, 88, 89, 90, 91, 92, 93, 94, 95, 96, 97, 98, 99])"
      ]
     },
     "execution_count": 55,
     "metadata": {},
     "output_type": "execute_result"
    }
   ],
   "source": [
    "v = np.arange(100)\n",
    "v"
   ]
  },
  {
   "cell_type": "code",
   "execution_count": 57,
   "id": "8f24a1c2",
   "metadata": {},
   "outputs": [
    {
     "data": {
      "text/plain": [
       "array([[ 0,  1,  2,  3,  4,  5,  6,  7,  8,  9, 10, 11, 12, 13, 14, 15,\n",
       "        16, 17, 18, 19, 20, 21, 22, 23, 24, 25, 26, 27, 28, 29, 30, 31,\n",
       "        32, 33, 34, 35, 36, 37, 38, 39, 40, 41, 42, 43, 44, 45, 46, 47,\n",
       "        48, 49],\n",
       "       [50, 51, 52, 53, 54, 55, 56, 57, 58, 59, 60, 61, 62, 63, 64, 65,\n",
       "        66, 67, 68, 69, 70, 71, 72, 73, 74, 75, 76, 77, 78, 79, 80, 81,\n",
       "        82, 83, 84, 85, 86, 87, 88, 89, 90, 91, 92, 93, 94, 95, 96, 97,\n",
       "        98, 99]])"
      ]
     },
     "execution_count": 57,
     "metadata": {},
     "output_type": "execute_result"
    }
   ],
   "source": [
    "v.reshape(2,50)"
   ]
  },
  {
   "cell_type": "code",
   "execution_count": 60,
   "id": "8feb6ab9",
   "metadata": {},
   "outputs": [
    {
     "name": "stdout",
     "output_type": "stream",
     "text": [
      "[[ 0  1  2  3]\n",
      " [ 4  5  6  7]\n",
      " [ 8  9 10 11]\n",
      " [12 13 14 15]\n",
      " [16 17 18 19]\n",
      " [20 21 22 23]\n",
      " [24 25 26 27]\n",
      " [28 29 30 31]\n",
      " [32 33 34 35]\n",
      " [36 37 38 39]\n",
      " [40 41 42 43]\n",
      " [44 45 46 47]\n",
      " [48 49 50 51]\n",
      " [52 53 54 55]\n",
      " [56 57 58 59]\n",
      " [60 61 62 63]\n",
      " [64 65 66 67]\n",
      " [68 69 70 71]\n",
      " [72 73 74 75]\n",
      " [76 77 78 79]\n",
      " [80 81 82 83]\n",
      " [84 85 86 87]\n",
      " [88 89 90 91]\n",
      " [92 93 94 95]\n",
      " [96 97 98 99]]\n",
      "[[[[ 0  1  2  3  4]\n",
      "   [ 5  6  7  8  9]\n",
      "   [10 11 12 13 14]\n",
      "   [15 16 17 18 19]\n",
      "   [20 21 22 23 24]]\n",
      "\n",
      "  [[25 26 27 28 29]\n",
      "   [30 31 32 33 34]\n",
      "   [35 36 37 38 39]\n",
      "   [40 41 42 43 44]\n",
      "   [45 46 47 48 49]]]\n",
      "\n",
      "\n",
      " [[[50 51 52 53 54]\n",
      "   [55 56 57 58 59]\n",
      "   [60 61 62 63 64]\n",
      "   [65 66 67 68 69]\n",
      "   [70 71 72 73 74]]\n",
      "\n",
      "  [[75 76 77 78 79]\n",
      "   [80 81 82 83 84]\n",
      "   [85 86 87 88 89]\n",
      "   [90 91 92 93 94]\n",
      "   [95 96 97 98 99]]]]\n"
     ]
    }
   ],
   "source": [
    "print(v.reshape(25,4))\n",
    "\n",
    "print(v.reshape(2,2,5,5))"
   ]
  },
  {
   "cell_type": "markdown",
   "id": "cff54aee",
   "metadata": {},
   "source": [
    "###### np.reshape(x,y,z,a) just reshapes the given array into an matrix of x in 1D, y in 2D, z in 3D, a in 4D\n",
    "###### x*y*z*a = total number of entries in original array"
   ]
  },
  {
   "cell_type": "code",
   "execution_count": 61,
   "id": "2c686f3e",
   "metadata": {},
   "outputs": [],
   "source": [
    "a = np?"
   ]
  },
  {
   "cell_type": "code",
   "execution_count": 84,
   "id": "a5e1d5f3",
   "metadata": {},
   "outputs": [],
   "source": [
    "np.zeros?"
   ]
  },
  {
   "cell_type": "code",
   "execution_count": 86,
   "id": "d4209311",
   "metadata": {},
   "outputs": [
    {
     "data": {
      "text/plain": [
       "array([0., 0., 0., 0.])"
      ]
     },
     "execution_count": 86,
     "metadata": {},
     "output_type": "execute_result"
    }
   ],
   "source": [
    "a  = np.zeros(4)\n",
    "a"
   ]
  },
  {
   "cell_type": "code",
   "execution_count": 88,
   "id": "46383b66",
   "metadata": {},
   "outputs": [
    {
     "data": {
      "text/plain": [
       "array([[0., 0., 0., 0.],\n",
       "       [0., 0., 0., 0.],\n",
       "       [0., 0., 0., 0.]])"
      ]
     },
     "execution_count": 88,
     "metadata": {},
     "output_type": "execute_result"
    }
   ],
   "source": [
    "a = np.zeros((3,4))\n",
    "a"
   ]
  },
  {
   "cell_type": "code",
   "execution_count": null,
   "id": "5eca64a8",
   "metadata": {},
   "outputs": [],
   "source": []
  }
 ],
 "metadata": {
  "kernelspec": {
   "display_name": "Python 3 (ipykernel)",
   "language": "python",
   "name": "python3"
  },
  "language_info": {
   "codemirror_mode": {
    "name": "ipython",
    "version": 3
   },
   "file_extension": ".py",
   "mimetype": "text/x-python",
   "name": "python",
   "nbconvert_exporter": "python",
   "pygments_lexer": "ipython3",
   "version": "3.10.4"
  }
 },
 "nbformat": 4,
 "nbformat_minor": 5
}
