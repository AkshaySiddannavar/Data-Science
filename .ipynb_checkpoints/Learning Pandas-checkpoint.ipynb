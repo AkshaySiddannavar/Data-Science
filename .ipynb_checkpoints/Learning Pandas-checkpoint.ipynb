{
 "cells": [
  {
   "cell_type": "markdown",
   "id": "8e3cbe18",
   "metadata": {},
   "source": [
    "###### Pandas\n",
    "###### Pandas is built on top of numpy so it gets all the benefits of numpy slicing, maksing, speed,... "
   ]
  },
  {
   "cell_type": "code",
   "execution_count": 1,
   "id": "ab0efcc5",
   "metadata": {},
   "outputs": [],
   "source": [
    "import pandas as pd"
   ]
  },
  {
   "cell_type": "markdown",
   "id": "e4e6c764",
   "metadata": {},
   "source": [
    "###### Pandas Series(1D array)"
   ]
  },
  {
   "cell_type": "code",
   "execution_count": 2,
   "id": "d38a6031",
   "metadata": {},
   "outputs": [],
   "source": [
    "A = pd.Series([1,2,3,4], index=['a','b','c','d']) #think of these indices and value like dictionary"
   ]
  },
  {
   "cell_type": "code",
   "execution_count": 3,
   "id": "8a332c52",
   "metadata": {},
   "outputs": [
    {
     "data": {
      "text/plain": [
       "a    1\n",
       "b    2\n",
       "c    3\n",
       "d    4\n",
       "dtype: int64"
      ]
     },
     "execution_count": 3,
     "metadata": {},
     "output_type": "execute_result"
    }
   ],
   "source": [
    "A"
   ]
  },
  {
   "cell_type": "code",
   "execution_count": 4,
   "id": "0050a67b",
   "metadata": {},
   "outputs": [
    {
     "data": {
      "text/plain": [
       "pandas.core.series.Series"
      ]
     },
     "execution_count": 4,
     "metadata": {},
     "output_type": "execute_result"
    }
   ],
   "source": [
    "type(A)"
   ]
  },
  {
   "cell_type": "code",
   "execution_count": 5,
   "id": "389c6dec",
   "metadata": {},
   "outputs": [
    {
     "data": {
      "text/plain": [
       "array([1, 2, 3, 4], dtype=int64)"
      ]
     },
     "execution_count": 5,
     "metadata": {},
     "output_type": "execute_result"
    }
   ],
   "source": [
    "A.values"
   ]
  },
  {
   "cell_type": "code",
   "execution_count": 6,
   "id": "4f7545eb",
   "metadata": {},
   "outputs": [
    {
     "data": {
      "text/plain": [
       "numpy.ndarray"
      ]
     },
     "execution_count": 6,
     "metadata": {},
     "output_type": "execute_result"
    }
   ],
   "source": [
    "type(A.values)"
   ]
  },
  {
   "cell_type": "code",
   "execution_count": 7,
   "id": "d1965003",
   "metadata": {},
   "outputs": [
    {
     "data": {
      "text/plain": [
       "pandas.core.indexes.base.Index"
      ]
     },
     "execution_count": 7,
     "metadata": {},
     "output_type": "execute_result"
    }
   ],
   "source": [
    "type(A.index)"
   ]
  },
  {
   "cell_type": "code",
   "execution_count": 8,
   "id": "28f36a0f",
   "metadata": {},
   "outputs": [
    {
     "data": {
      "text/plain": [
       "1"
      ]
     },
     "execution_count": 8,
     "metadata": {},
     "output_type": "execute_result"
    }
   ],
   "source": [
    "A['a']"
   ]
  },
  {
   "cell_type": "code",
   "execution_count": 10,
   "id": "499f8113",
   "metadata": {},
   "outputs": [
    {
     "data": {
      "text/plain": [
       "a    1\n",
       "b    2\n",
       "c    3\n",
       "dtype: int64"
      ]
     },
     "execution_count": 10,
     "metadata": {},
     "output_type": "execute_result"
    }
   ],
   "source": [
    "A['a':'c'] #both are inclusive here"
   ]
  },
  {
   "cell_type": "code",
   "execution_count": 16,
   "id": "64996063",
   "metadata": {},
   "outputs": [],
   "source": [
    "A = pd.Series([1,2,3,4], index= ['a','c','z','g'])"
   ]
  },
  {
   "cell_type": "code",
   "execution_count": 17,
   "id": "a74dbe28",
   "metadata": {},
   "outputs": [
    {
     "data": {
      "text/plain": [
       "Index(['a', 'c', 'z', 'g'], dtype='object')"
      ]
     },
     "execution_count": 17,
     "metadata": {},
     "output_type": "execute_result"
    }
   ],
   "source": [
    "A.index"
   ]
  },
  {
   "cell_type": "code",
   "execution_count": 18,
   "id": "3fbe5dfc",
   "metadata": {},
   "outputs": [
    {
     "data": {
      "text/plain": [
       "2"
      ]
     },
     "execution_count": 18,
     "metadata": {},
     "output_type": "execute_result"
    }
   ],
   "source": [
    "A['c']"
   ]
  },
  {
   "cell_type": "code",
   "execution_count": 20,
   "id": "0f167076",
   "metadata": {},
   "outputs": [
    {
     "data": {
      "text/plain": [
       "a    1\n",
       "c    2\n",
       "z    3\n",
       "g    4\n",
       "dtype: int64"
      ]
     },
     "execution_count": 20,
     "metadata": {},
     "output_type": "execute_result"
    }
   ],
   "source": [
    "A['a':'g'] #it will not take into account lexical sequence it will just go through all indices available till end is reached(incl.)"
   ]
  },
  {
   "cell_type": "markdown",
   "id": "e7477cf4",
   "metadata": {},
   "source": [
    "###### Creating Series from dictionary"
   ]
  },
  {
   "cell_type": "code",
   "execution_count": 21,
   "id": "a6ade1d0",
   "metadata": {},
   "outputs": [],
   "source": [
    "A = {'A': -1, 'B': -4, 'C': 6}\n"
   ]
  },
  {
   "cell_type": "code",
   "execution_count": 22,
   "id": "6f274254",
   "metadata": {},
   "outputs": [],
   "source": [
    "A_series = pd.Series(A)"
   ]
  },
  {
   "cell_type": "code",
   "execution_count": 23,
   "id": "2b578386",
   "metadata": {},
   "outputs": [
    {
     "data": {
      "text/plain": [
       "array([-1, -4,  6], dtype=int64)"
      ]
     },
     "execution_count": 23,
     "metadata": {},
     "output_type": "execute_result"
    }
   ],
   "source": [
    "A_series.values"
   ]
  },
  {
   "cell_type": "code",
   "execution_count": 26,
   "id": "b68585cb",
   "metadata": {},
   "outputs": [
    {
     "data": {
      "text/plain": [
       "3"
      ]
     },
     "execution_count": 26,
     "metadata": {},
     "output_type": "execute_result"
    }
   ],
   "source": [
    "A_series.count()"
   ]
  },
  {
   "cell_type": "code",
   "execution_count": 27,
   "id": "ac8a3383",
   "metadata": {},
   "outputs": [
    {
     "data": {
      "text/plain": [
       "Index(['A', 'B', 'C'], dtype='object')"
      ]
     },
     "execution_count": 27,
     "metadata": {},
     "output_type": "execute_result"
    }
   ],
   "source": [
    "A_series.index"
   ]
  },
  {
   "cell_type": "code",
   "execution_count": 36,
   "id": "bd7a66eb",
   "metadata": {},
   "outputs": [],
   "source": [
    "A = {1.2 : 1, 3.5 : 1, 7.8: 9} #indices needn't be just strings"
   ]
  },
  {
   "cell_type": "code",
   "execution_count": 37,
   "id": "48008237",
   "metadata": {},
   "outputs": [],
   "source": [
    "A_ser = pd.Series(A)"
   ]
  },
  {
   "cell_type": "code",
   "execution_count": 38,
   "id": "5a8a01c3",
   "metadata": {},
   "outputs": [
    {
     "data": {
      "text/plain": [
       "array([1, 1, 9], dtype=int64)"
      ]
     },
     "execution_count": 38,
     "metadata": {},
     "output_type": "execute_result"
    }
   ],
   "source": [
    "A_ser.values"
   ]
  },
  {
   "cell_type": "code",
   "execution_count": 39,
   "id": "c086ed76",
   "metadata": {},
   "outputs": [
    {
     "data": {
      "text/plain": [
       "3"
      ]
     },
     "execution_count": 39,
     "metadata": {},
     "output_type": "execute_result"
    }
   ],
   "source": [
    "A_ser.count()"
   ]
  },
  {
   "cell_type": "code",
   "execution_count": 40,
   "id": "1ffca27e",
   "metadata": {},
   "outputs": [
    {
     "data": {
      "text/plain": [
       "Float64Index([1.2, 3.5, 7.8], dtype='float64')"
      ]
     },
     "execution_count": 40,
     "metadata": {},
     "output_type": "execute_result"
    }
   ],
   "source": [
    "A_ser.index"
   ]
  },
  {
   "cell_type": "code",
   "execution_count": 41,
   "id": "6d20c51a",
   "metadata": {},
   "outputs": [
    {
     "data": {
      "text/plain": [
       "1    2\n",
       "9    1\n",
       "dtype: int64"
      ]
     },
     "execution_count": 41,
     "metadata": {},
     "output_type": "execute_result"
    }
   ],
   "source": [
    "A_ser.value_counts()"
   ]
  },
  {
   "cell_type": "code",
   "execution_count": 44,
   "id": "7ebfe605",
   "metadata": {},
   "outputs": [
    {
     "data": {
      "text/plain": [
       "1.2    1\n",
       "3.5    1\n",
       "7.8    9\n",
       "dtype: int64"
      ]
     },
     "execution_count": 44,
     "metadata": {},
     "output_type": "execute_result"
    }
   ],
   "source": [
    "A_ser[0::] #pandas may get confused if indices are numerical and same as give number(int and have similar numbers)  "
   ]
  },
  {
   "cell_type": "markdown",
   "id": "c2a69e18",
   "metadata": {},
   "source": [
    "###### Data Frame "
   ]
  },
  {
   "cell_type": "code",
   "execution_count": 58,
   "id": "f01f9707",
   "metadata": {},
   "outputs": [],
   "source": [
    "pd.DataFrame?"
   ]
  },
  {
   "cell_type": "code",
   "execution_count": 59,
   "id": "c2851b5e",
   "metadata": {},
   "outputs": [],
   "source": [
    "A = {1 : 'dog', 2: 'cat', 3: 'girraffe'}\n",
    "B = {'a': 'super', 'b': 'duper' , 'c' : 'amazing'}\n",
    "\n",
    "df = pd.DataFrame(A,B) #A - data and B - index"
   ]
  },
  {
   "cell_type": "code",
   "execution_count": 60,
   "id": "30de99f2",
   "metadata": {},
   "outputs": [
    {
     "data": {
      "text/html": [
       "<div>\n",
       "<style scoped>\n",
       "    .dataframe tbody tr th:only-of-type {\n",
       "        vertical-align: middle;\n",
       "    }\n",
       "\n",
       "    .dataframe tbody tr th {\n",
       "        vertical-align: top;\n",
       "    }\n",
       "\n",
       "    .dataframe thead th {\n",
       "        text-align: right;\n",
       "    }\n",
       "</style>\n",
       "<table border=\"1\" class=\"dataframe\">\n",
       "  <thead>\n",
       "    <tr style=\"text-align: right;\">\n",
       "      <th></th>\n",
       "      <th>1</th>\n",
       "      <th>2</th>\n",
       "      <th>3</th>\n",
       "    </tr>\n",
       "  </thead>\n",
       "  <tbody>\n",
       "    <tr>\n",
       "      <th>a</th>\n",
       "      <td>dog</td>\n",
       "      <td>cat</td>\n",
       "      <td>girraffe</td>\n",
       "    </tr>\n",
       "    <tr>\n",
       "      <th>b</th>\n",
       "      <td>dog</td>\n",
       "      <td>cat</td>\n",
       "      <td>girraffe</td>\n",
       "    </tr>\n",
       "    <tr>\n",
       "      <th>c</th>\n",
       "      <td>dog</td>\n",
       "      <td>cat</td>\n",
       "      <td>girraffe</td>\n",
       "    </tr>\n",
       "  </tbody>\n",
       "</table>\n",
       "</div>"
      ],
      "text/plain": [
       "     1    2         3\n",
       "a  dog  cat  girraffe\n",
       "b  dog  cat  girraffe\n",
       "c  dog  cat  girraffe"
      ]
     },
     "execution_count": 60,
     "metadata": {},
     "output_type": "execute_result"
    }
   ],
   "source": [
    "df"
   ]
  },
  {
   "cell_type": "code",
   "execution_count": 53,
   "id": "be482305",
   "metadata": {},
   "outputs": [],
   "source": [
    "A = {'a' : 100, 'b' : 200}\n",
    "B = {'1' : 'xyz', '2' : 'op'}\n",
    "\n",
    "df = pd.DataFrame(A,index = ['a','b']) #we are using a and b as indices but still storing same value in both"
   ]
  },
  {
   "cell_type": "code",
   "execution_count": 51,
   "id": "a640c902",
   "metadata": {},
   "outputs": [
    {
     "data": {
      "text/html": [
       "<div>\n",
       "<style scoped>\n",
       "    .dataframe tbody tr th:only-of-type {\n",
       "        vertical-align: middle;\n",
       "    }\n",
       "\n",
       "    .dataframe tbody tr th {\n",
       "        vertical-align: top;\n",
       "    }\n",
       "\n",
       "    .dataframe thead th {\n",
       "        text-align: right;\n",
       "    }\n",
       "</style>\n",
       "<table border=\"1\" class=\"dataframe\">\n",
       "  <thead>\n",
       "    <tr style=\"text-align: right;\">\n",
       "      <th></th>\n",
       "      <th>a</th>\n",
       "      <th>b</th>\n",
       "    </tr>\n",
       "  </thead>\n",
       "  <tbody>\n",
       "    <tr>\n",
       "      <th>1</th>\n",
       "      <td>100</td>\n",
       "      <td>200</td>\n",
       "    </tr>\n",
       "    <tr>\n",
       "      <th>2</th>\n",
       "      <td>100</td>\n",
       "      <td>200</td>\n",
       "    </tr>\n",
       "  </tbody>\n",
       "</table>\n",
       "</div>"
      ],
      "text/plain": [
       "     a    b\n",
       "1  100  200\n",
       "2  100  200"
      ]
     },
     "execution_count": 51,
     "metadata": {},
     "output_type": "execute_result"
    }
   ],
   "source": [
    "df"
   ]
  },
  {
   "cell_type": "code",
   "execution_count": 54,
   "id": "3fedb439",
   "metadata": {},
   "outputs": [],
   "source": [
    "df = pd.DataFrame(A,index = ['1','2']) "
   ]
  },
  {
   "cell_type": "code",
   "execution_count": 55,
   "id": "b386b18b",
   "metadata": {},
   "outputs": [
    {
     "data": {
      "text/html": [
       "<div>\n",
       "<style scoped>\n",
       "    .dataframe tbody tr th:only-of-type {\n",
       "        vertical-align: middle;\n",
       "    }\n",
       "\n",
       "    .dataframe tbody tr th {\n",
       "        vertical-align: top;\n",
       "    }\n",
       "\n",
       "    .dataframe thead th {\n",
       "        text-align: right;\n",
       "    }\n",
       "</style>\n",
       "<table border=\"1\" class=\"dataframe\">\n",
       "  <thead>\n",
       "    <tr style=\"text-align: right;\">\n",
       "      <th></th>\n",
       "      <th>a</th>\n",
       "      <th>b</th>\n",
       "    </tr>\n",
       "  </thead>\n",
       "  <tbody>\n",
       "    <tr>\n",
       "      <th>1</th>\n",
       "      <td>100</td>\n",
       "      <td>200</td>\n",
       "    </tr>\n",
       "    <tr>\n",
       "      <th>2</th>\n",
       "      <td>100</td>\n",
       "      <td>200</td>\n",
       "    </tr>\n",
       "  </tbody>\n",
       "</table>\n",
       "</div>"
      ],
      "text/plain": [
       "     a    b\n",
       "1  100  200\n",
       "2  100  200"
      ]
     },
     "execution_count": 55,
     "metadata": {},
     "output_type": "execute_result"
    }
   ],
   "source": [
    "df"
   ]
  },
  {
   "cell_type": "code",
   "execution_count": 62,
   "id": "a5ed1710",
   "metadata": {},
   "outputs": [],
   "source": [
    "A = {1 : 'dog', 2: 'cat', 3: 'girraffe'}\n",
    "B = {1: 'super', 2: 'duper' , 3 : 'amazing'}\n",
    "\n",
    "df = pd.DataFrame({'animals':A, 'quality': B})"
   ]
  },
  {
   "cell_type": "code",
   "execution_count": 63,
   "id": "ab549ff7",
   "metadata": {},
   "outputs": [
    {
     "data": {
      "text/html": [
       "<div>\n",
       "<style scoped>\n",
       "    .dataframe tbody tr th:only-of-type {\n",
       "        vertical-align: middle;\n",
       "    }\n",
       "\n",
       "    .dataframe tbody tr th {\n",
       "        vertical-align: top;\n",
       "    }\n",
       "\n",
       "    .dataframe thead th {\n",
       "        text-align: right;\n",
       "    }\n",
       "</style>\n",
       "<table border=\"1\" class=\"dataframe\">\n",
       "  <thead>\n",
       "    <tr style=\"text-align: right;\">\n",
       "      <th></th>\n",
       "      <th>animals</th>\n",
       "      <th>quality</th>\n",
       "    </tr>\n",
       "  </thead>\n",
       "  <tbody>\n",
       "    <tr>\n",
       "      <th>1</th>\n",
       "      <td>dog</td>\n",
       "      <td>super</td>\n",
       "    </tr>\n",
       "    <tr>\n",
       "      <th>2</th>\n",
       "      <td>cat</td>\n",
       "      <td>duper</td>\n",
       "    </tr>\n",
       "    <tr>\n",
       "      <th>3</th>\n",
       "      <td>girraffe</td>\n",
       "      <td>amazing</td>\n",
       "    </tr>\n",
       "  </tbody>\n",
       "</table>\n",
       "</div>"
      ],
      "text/plain": [
       "    animals  quality\n",
       "1       dog    super\n",
       "2       cat    duper\n",
       "3  girraffe  amazing"
      ]
     },
     "execution_count": 63,
     "metadata": {},
     "output_type": "execute_result"
    }
   ],
   "source": [
    "df"
   ]
  },
  {
   "cell_type": "code",
   "execution_count": 64,
   "id": "65a7982b",
   "metadata": {},
   "outputs": [
    {
     "data": {
      "text/html": [
       "<div>\n",
       "<style scoped>\n",
       "    .dataframe tbody tr th:only-of-type {\n",
       "        vertical-align: middle;\n",
       "    }\n",
       "\n",
       "    .dataframe tbody tr th {\n",
       "        vertical-align: top;\n",
       "    }\n",
       "\n",
       "    .dataframe thead th {\n",
       "        text-align: right;\n",
       "    }\n",
       "</style>\n",
       "<table border=\"1\" class=\"dataframe\">\n",
       "  <thead>\n",
       "    <tr style=\"text-align: right;\">\n",
       "      <th></th>\n",
       "      <th>1</th>\n",
       "      <th>2</th>\n",
       "      <th>3</th>\n",
       "    </tr>\n",
       "  </thead>\n",
       "  <tbody>\n",
       "    <tr>\n",
       "      <th>animals</th>\n",
       "      <td>dog</td>\n",
       "      <td>cat</td>\n",
       "      <td>girraffe</td>\n",
       "    </tr>\n",
       "    <tr>\n",
       "      <th>quality</th>\n",
       "      <td>super</td>\n",
       "      <td>duper</td>\n",
       "      <td>amazing</td>\n",
       "    </tr>\n",
       "  </tbody>\n",
       "</table>\n",
       "</div>"
      ],
      "text/plain": [
       "             1      2         3\n",
       "animals    dog    cat  girraffe\n",
       "quality  super  duper   amazing"
      ]
     },
     "execution_count": 64,
     "metadata": {},
     "output_type": "execute_result"
    }
   ],
   "source": [
    "df.T"
   ]
  },
  {
   "cell_type": "code",
   "execution_count": 65,
   "id": "bcb7b6b7",
   "metadata": {},
   "outputs": [
    {
     "data": {
      "text/plain": [
       "Index(['animals', 'quality'], dtype='object')"
      ]
     },
     "execution_count": 65,
     "metadata": {},
     "output_type": "execute_result"
    }
   ],
   "source": [
    "df.columns"
   ]
  },
  {
   "cell_type": "code",
   "execution_count": 66,
   "id": "58455c3e",
   "metadata": {},
   "outputs": [
    {
     "data": {
      "text/plain": [
       "array([['dog', 'super'],\n",
       "       ['cat', 'duper'],\n",
       "       ['girraffe', 'amazing']], dtype=object)"
      ]
     },
     "execution_count": 66,
     "metadata": {},
     "output_type": "execute_result"
    }
   ],
   "source": [
    "df.values"
   ]
  },
  {
   "cell_type": "code",
   "execution_count": 67,
   "id": "ad7f4af0",
   "metadata": {},
   "outputs": [
    {
     "data": {
      "text/plain": [
       "numpy.ndarray"
      ]
     },
     "execution_count": 67,
     "metadata": {},
     "output_type": "execute_result"
    }
   ],
   "source": [
    "type(df.values)"
   ]
  },
  {
   "cell_type": "code",
   "execution_count": 69,
   "id": "67f9f9ff",
   "metadata": {},
   "outputs": [
    {
     "data": {
      "text/plain": [
       "'super'"
      ]
     },
     "execution_count": 69,
     "metadata": {},
     "output_type": "execute_result"
    }
   ],
   "source": [
    "df.values[0,1]"
   ]
  },
  {
   "cell_type": "code",
   "execution_count": 70,
   "id": "5ab6ad9b",
   "metadata": {},
   "outputs": [
    {
     "data": {
      "text/html": [
       "<div>\n",
       "<style scoped>\n",
       "    .dataframe tbody tr th:only-of-type {\n",
       "        vertical-align: middle;\n",
       "    }\n",
       "\n",
       "    .dataframe tbody tr th {\n",
       "        vertical-align: top;\n",
       "    }\n",
       "\n",
       "    .dataframe thead th {\n",
       "        text-align: right;\n",
       "    }\n",
       "</style>\n",
       "<table border=\"1\" class=\"dataframe\">\n",
       "  <thead>\n",
       "    <tr style=\"text-align: right;\">\n",
       "      <th></th>\n",
       "      <th>animals</th>\n",
       "      <th>quality</th>\n",
       "    </tr>\n",
       "  </thead>\n",
       "  <tbody>\n",
       "    <tr>\n",
       "      <th>1</th>\n",
       "      <td>dog</td>\n",
       "      <td>super</td>\n",
       "    </tr>\n",
       "    <tr>\n",
       "      <th>2</th>\n",
       "      <td>cat</td>\n",
       "      <td>duper</td>\n",
       "    </tr>\n",
       "    <tr>\n",
       "      <th>3</th>\n",
       "      <td>girraffe</td>\n",
       "      <td>amazing</td>\n",
       "    </tr>\n",
       "  </tbody>\n",
       "</table>\n",
       "</div>"
      ],
      "text/plain": [
       "    animals  quality\n",
       "1       dog    super\n",
       "2       cat    duper\n",
       "3  girraffe  amazing"
      ]
     },
     "execution_count": 70,
     "metadata": {},
     "output_type": "execute_result"
    }
   ],
   "source": [
    "df"
   ]
  },
  {
   "cell_type": "code",
   "execution_count": 72,
   "id": "31b2d607",
   "metadata": {},
   "outputs": [],
   "source": [
    "df['nickname'] = ''"
   ]
  },
  {
   "cell_type": "code",
   "execution_count": 73,
   "id": "b5260ba7",
   "metadata": {},
   "outputs": [
    {
     "data": {
      "text/html": [
       "<div>\n",
       "<style scoped>\n",
       "    .dataframe tbody tr th:only-of-type {\n",
       "        vertical-align: middle;\n",
       "    }\n",
       "\n",
       "    .dataframe tbody tr th {\n",
       "        vertical-align: top;\n",
       "    }\n",
       "\n",
       "    .dataframe thead th {\n",
       "        text-align: right;\n",
       "    }\n",
       "</style>\n",
       "<table border=\"1\" class=\"dataframe\">\n",
       "  <thead>\n",
       "    <tr style=\"text-align: right;\">\n",
       "      <th></th>\n",
       "      <th>animals</th>\n",
       "      <th>quality</th>\n",
       "      <th>nickname</th>\n",
       "    </tr>\n",
       "  </thead>\n",
       "  <tbody>\n",
       "    <tr>\n",
       "      <th>1</th>\n",
       "      <td>dog</td>\n",
       "      <td>super</td>\n",
       "      <td></td>\n",
       "    </tr>\n",
       "    <tr>\n",
       "      <th>2</th>\n",
       "      <td>cat</td>\n",
       "      <td>duper</td>\n",
       "      <td></td>\n",
       "    </tr>\n",
       "    <tr>\n",
       "      <th>3</th>\n",
       "      <td>girraffe</td>\n",
       "      <td>amazing</td>\n",
       "      <td></td>\n",
       "    </tr>\n",
       "  </tbody>\n",
       "</table>\n",
       "</div>"
      ],
      "text/plain": [
       "    animals  quality nickname\n",
       "1       dog    super         \n",
       "2       cat    duper         \n",
       "3  girraffe  amazing         "
      ]
     },
     "execution_count": 73,
     "metadata": {},
     "output_type": "execute_result"
    }
   ],
   "source": [
    "df"
   ]
  },
  {
   "cell_type": "code",
   "execution_count": 83,
   "id": "d6a3ed07",
   "metadata": {},
   "outputs": [
    {
     "data": {
      "text/html": [
       "<div>\n",
       "<style scoped>\n",
       "    .dataframe tbody tr th:only-of-type {\n",
       "        vertical-align: middle;\n",
       "    }\n",
       "\n",
       "    .dataframe tbody tr th {\n",
       "        vertical-align: top;\n",
       "    }\n",
       "\n",
       "    .dataframe thead th {\n",
       "        text-align: right;\n",
       "    }\n",
       "</style>\n",
       "<table border=\"1\" class=\"dataframe\">\n",
       "  <thead>\n",
       "    <tr style=\"text-align: right;\">\n",
       "      <th></th>\n",
       "      <th>animals</th>\n",
       "      <th>quality</th>\n",
       "      <th>nickname</th>\n",
       "    </tr>\n",
       "  </thead>\n",
       "  <tbody>\n",
       "    <tr>\n",
       "      <th>1</th>\n",
       "      <td>dog</td>\n",
       "      <td>super</td>\n",
       "      <td></td>\n",
       "    </tr>\n",
       "    <tr>\n",
       "      <th>2</th>\n",
       "      <td>cat</td>\n",
       "      <td>duper</td>\n",
       "      <td></td>\n",
       "    </tr>\n",
       "    <tr>\n",
       "      <th>3</th>\n",
       "      <td>girraffe</td>\n",
       "      <td>amazing</td>\n",
       "      <td></td>\n",
       "    </tr>\n",
       "  </tbody>\n",
       "</table>\n",
       "</div>"
      ],
      "text/plain": [
       "    animals  quality nickname\n",
       "1       dog    super         \n",
       "2       cat    duper         \n",
       "3  girraffe  amazing         "
      ]
     },
     "execution_count": 83,
     "metadata": {},
     "output_type": "execute_result"
    }
   ],
   "source": [
    "df"
   ]
  },
  {
   "cell_type": "code",
   "execution_count": 87,
   "id": "e6d9dc73",
   "metadata": {},
   "outputs": [],
   "source": [
    "df['nickname'] = df['quality'].add_prefix('a')"
   ]
  },
  {
   "cell_type": "code",
   "execution_count": 88,
   "id": "97691370",
   "metadata": {},
   "outputs": [
    {
     "data": {
      "text/html": [
       "<div>\n",
       "<style scoped>\n",
       "    .dataframe tbody tr th:only-of-type {\n",
       "        vertical-align: middle;\n",
       "    }\n",
       "\n",
       "    .dataframe tbody tr th {\n",
       "        vertical-align: top;\n",
       "    }\n",
       "\n",
       "    .dataframe thead th {\n",
       "        text-align: right;\n",
       "    }\n",
       "</style>\n",
       "<table border=\"1\" class=\"dataframe\">\n",
       "  <thead>\n",
       "    <tr style=\"text-align: right;\">\n",
       "      <th></th>\n",
       "      <th>animals</th>\n",
       "      <th>quality</th>\n",
       "      <th>nickname</th>\n",
       "    </tr>\n",
       "  </thead>\n",
       "  <tbody>\n",
       "    <tr>\n",
       "      <th>1</th>\n",
       "      <td>dog</td>\n",
       "      <td>super</td>\n",
       "      <td>NaN</td>\n",
       "    </tr>\n",
       "    <tr>\n",
       "      <th>2</th>\n",
       "      <td>cat</td>\n",
       "      <td>duper</td>\n",
       "      <td>NaN</td>\n",
       "    </tr>\n",
       "    <tr>\n",
       "      <th>3</th>\n",
       "      <td>girraffe</td>\n",
       "      <td>amazing</td>\n",
       "      <td>NaN</td>\n",
       "    </tr>\n",
       "  </tbody>\n",
       "</table>\n",
       "</div>"
      ],
      "text/plain": [
       "    animals  quality nickname\n",
       "1       dog    super      NaN\n",
       "2       cat    duper      NaN\n",
       "3  girraffe  amazing      NaN"
      ]
     },
     "execution_count": 88,
     "metadata": {},
     "output_type": "execute_result"
    }
   ],
   "source": [
    "df"
   ]
  },
  {
   "cell_type": "code",
   "execution_count": null,
   "id": "99ea1175",
   "metadata": {},
   "outputs": [],
   "source": [
    "del df['nickname']"
   ]
  },
  {
   "cell_type": "code",
   "execution_count": 7,
   "id": "be51a818",
   "metadata": {},
   "outputs": [],
   "source": [
    "A = {1: 85, 2:75,3:65}\n",
    "\n",
    "df = pd.DataFrame({'grades': A})"
   ]
  },
  {
   "cell_type": "code",
   "execution_count": 8,
   "id": "e2d87dbe",
   "metadata": {},
   "outputs": [
    {
     "data": {
      "text/html": [
       "<div>\n",
       "<style scoped>\n",
       "    .dataframe tbody tr th:only-of-type {\n",
       "        vertical-align: middle;\n",
       "    }\n",
       "\n",
       "    .dataframe tbody tr th {\n",
       "        vertical-align: top;\n",
       "    }\n",
       "\n",
       "    .dataframe thead th {\n",
       "        text-align: right;\n",
       "    }\n",
       "</style>\n",
       "<table border=\"1\" class=\"dataframe\">\n",
       "  <thead>\n",
       "    <tr style=\"text-align: right;\">\n",
       "      <th></th>\n",
       "      <th>grades</th>\n",
       "    </tr>\n",
       "  </thead>\n",
       "  <tbody>\n",
       "    <tr>\n",
       "      <th>1</th>\n",
       "      <td>85</td>\n",
       "    </tr>\n",
       "    <tr>\n",
       "      <th>2</th>\n",
       "      <td>75</td>\n",
       "    </tr>\n",
       "    <tr>\n",
       "      <th>3</th>\n",
       "      <td>65</td>\n",
       "    </tr>\n",
       "  </tbody>\n",
       "</table>\n",
       "</div>"
      ],
      "text/plain": [
       "   grades\n",
       "1      85\n",
       "2      75\n",
       "3      65"
      ]
     },
     "execution_count": 8,
     "metadata": {},
     "output_type": "execute_result"
    }
   ],
   "source": [
    "df"
   ]
  },
  {
   "cell_type": "code",
   "execution_count": 9,
   "id": "0c0abb78",
   "metadata": {},
   "outputs": [],
   "source": [
    "D = df[df<70]"
   ]
  },
  {
   "cell_type": "code",
   "execution_count": 10,
   "id": "f663e06c",
   "metadata": {},
   "outputs": [
    {
     "data": {
      "text/html": [
       "<div>\n",
       "<style scoped>\n",
       "    .dataframe tbody tr th:only-of-type {\n",
       "        vertical-align: middle;\n",
       "    }\n",
       "\n",
       "    .dataframe tbody tr th {\n",
       "        vertical-align: top;\n",
       "    }\n",
       "\n",
       "    .dataframe thead th {\n",
       "        text-align: right;\n",
       "    }\n",
       "</style>\n",
       "<table border=\"1\" class=\"dataframe\">\n",
       "  <thead>\n",
       "    <tr style=\"text-align: right;\">\n",
       "      <th></th>\n",
       "      <th>grades</th>\n",
       "    </tr>\n",
       "  </thead>\n",
       "  <tbody>\n",
       "    <tr>\n",
       "      <th>1</th>\n",
       "      <td>NaN</td>\n",
       "    </tr>\n",
       "    <tr>\n",
       "      <th>2</th>\n",
       "      <td>NaN</td>\n",
       "    </tr>\n",
       "    <tr>\n",
       "      <th>3</th>\n",
       "      <td>65.0</td>\n",
       "    </tr>\n",
       "  </tbody>\n",
       "</table>\n",
       "</div>"
      ],
      "text/plain": [
       "   grades\n",
       "1     NaN\n",
       "2     NaN\n",
       "3    65.0"
      ]
     },
     "execution_count": 10,
     "metadata": {},
     "output_type": "execute_result"
    }
   ],
   "source": [
    "D"
   ]
  },
  {
   "cell_type": "code",
   "execution_count": 11,
   "id": "778a5004",
   "metadata": {},
   "outputs": [],
   "source": [
    "D = df[df['grades']<70]"
   ]
  },
  {
   "cell_type": "code",
   "execution_count": 12,
   "id": "78c25b2a",
   "metadata": {},
   "outputs": [
    {
     "data": {
      "text/html": [
       "<div>\n",
       "<style scoped>\n",
       "    .dataframe tbody tr th:only-of-type {\n",
       "        vertical-align: middle;\n",
       "    }\n",
       "\n",
       "    .dataframe tbody tr th {\n",
       "        vertical-align: top;\n",
       "    }\n",
       "\n",
       "    .dataframe thead th {\n",
       "        text-align: right;\n",
       "    }\n",
       "</style>\n",
       "<table border=\"1\" class=\"dataframe\">\n",
       "  <thead>\n",
       "    <tr style=\"text-align: right;\">\n",
       "      <th></th>\n",
       "      <th>grades</th>\n",
       "    </tr>\n",
       "  </thead>\n",
       "  <tbody>\n",
       "    <tr>\n",
       "      <th>3</th>\n",
       "      <td>65</td>\n",
       "    </tr>\n",
       "  </tbody>\n",
       "</table>\n",
       "</div>"
      ],
      "text/plain": [
       "   grades\n",
       "3      65"
      ]
     },
     "execution_count": 12,
     "metadata": {},
     "output_type": "execute_result"
    }
   ],
   "source": [
    "D"
   ]
  },
  {
   "cell_type": "code",
   "execution_count": 13,
   "id": "2bd55429",
   "metadata": {},
   "outputs": [],
   "source": [
    "df = pd.DataFrame([{'a':1, 'b':2},{'b':3, 'c':4}])"
   ]
  },
  {
   "cell_type": "code",
   "execution_count": 14,
   "id": "4a66e34f",
   "metadata": {},
   "outputs": [
    {
     "data": {
      "text/html": [
       "<div>\n",
       "<style scoped>\n",
       "    .dataframe tbody tr th:only-of-type {\n",
       "        vertical-align: middle;\n",
       "    }\n",
       "\n",
       "    .dataframe tbody tr th {\n",
       "        vertical-align: top;\n",
       "    }\n",
       "\n",
       "    .dataframe thead th {\n",
       "        text-align: right;\n",
       "    }\n",
       "</style>\n",
       "<table border=\"1\" class=\"dataframe\">\n",
       "  <thead>\n",
       "    <tr style=\"text-align: right;\">\n",
       "      <th></th>\n",
       "      <th>a</th>\n",
       "      <th>b</th>\n",
       "      <th>c</th>\n",
       "    </tr>\n",
       "  </thead>\n",
       "  <tbody>\n",
       "    <tr>\n",
       "      <th>0</th>\n",
       "      <td>1.0</td>\n",
       "      <td>2</td>\n",
       "      <td>NaN</td>\n",
       "    </tr>\n",
       "    <tr>\n",
       "      <th>1</th>\n",
       "      <td>NaN</td>\n",
       "      <td>3</td>\n",
       "      <td>4.0</td>\n",
       "    </tr>\n",
       "  </tbody>\n",
       "</table>\n",
       "</div>"
      ],
      "text/plain": [
       "     a  b    c\n",
       "0  1.0  2  NaN\n",
       "1  NaN  3  4.0"
      ]
     },
     "execution_count": 14,
     "metadata": {},
     "output_type": "execute_result"
    }
   ],
   "source": [
    "df"
   ]
  },
  {
   "cell_type": "code",
   "execution_count": 15,
   "id": "2dbb35fa",
   "metadata": {},
   "outputs": [
    {
     "data": {
      "text/html": [
       "<div>\n",
       "<style scoped>\n",
       "    .dataframe tbody tr th:only-of-type {\n",
       "        vertical-align: middle;\n",
       "    }\n",
       "\n",
       "    .dataframe tbody tr th {\n",
       "        vertical-align: top;\n",
       "    }\n",
       "\n",
       "    .dataframe thead th {\n",
       "        text-align: right;\n",
       "    }\n",
       "</style>\n",
       "<table border=\"1\" class=\"dataframe\">\n",
       "  <thead>\n",
       "    <tr style=\"text-align: right;\">\n",
       "      <th></th>\n",
       "      <th>a</th>\n",
       "      <th>b</th>\n",
       "      <th>c</th>\n",
       "    </tr>\n",
       "  </thead>\n",
       "  <tbody>\n",
       "    <tr>\n",
       "      <th>0</th>\n",
       "      <td>False</td>\n",
       "      <td>False</td>\n",
       "      <td>True</td>\n",
       "    </tr>\n",
       "    <tr>\n",
       "      <th>1</th>\n",
       "      <td>True</td>\n",
       "      <td>False</td>\n",
       "      <td>False</td>\n",
       "    </tr>\n",
       "  </tbody>\n",
       "</table>\n",
       "</div>"
      ],
      "text/plain": [
       "       a      b      c\n",
       "0  False  False   True\n",
       "1   True  False  False"
      ]
     },
     "execution_count": 15,
     "metadata": {},
     "output_type": "execute_result"
    }
   ],
   "source": [
    "#NaN and None are used interchangably\n",
    "df.isnull()"
   ]
  },
  {
   "cell_type": "markdown",
   "id": "cddb4599",
   "metadata": {},
   "source": [
    "###### Replacing null values"
   ]
  },
  {
   "cell_type": "code",
   "execution_count": 16,
   "id": "43af47a8",
   "metadata": {},
   "outputs": [
    {
     "data": {
      "text/plain": [
       "a    1\n",
       "b    0\n",
       "c    1\n",
       "dtype: int64"
      ]
     },
     "execution_count": 16,
     "metadata": {},
     "output_type": "execute_result"
    }
   ],
   "source": [
    "df.isnull().sum()"
   ]
  },
  {
   "cell_type": "code",
   "execution_count": 18,
   "id": "80688213",
   "metadata": {},
   "outputs": [
    {
     "data": {
      "text/html": [
       "<div>\n",
       "<style scoped>\n",
       "    .dataframe tbody tr th:only-of-type {\n",
       "        vertical-align: middle;\n",
       "    }\n",
       "\n",
       "    .dataframe tbody tr th {\n",
       "        vertical-align: top;\n",
       "    }\n",
       "\n",
       "    .dataframe thead th {\n",
       "        text-align: right;\n",
       "    }\n",
       "</style>\n",
       "<table border=\"1\" class=\"dataframe\">\n",
       "  <thead>\n",
       "    <tr style=\"text-align: right;\">\n",
       "      <th></th>\n",
       "      <th>a</th>\n",
       "      <th>b</th>\n",
       "      <th>c</th>\n",
       "    </tr>\n",
       "  </thead>\n",
       "  <tbody>\n",
       "  </tbody>\n",
       "</table>\n",
       "</div>"
      ],
      "text/plain": [
       "Empty DataFrame\n",
       "Columns: [a, b, c]\n",
       "Index: []"
      ]
     },
     "execution_count": 18,
     "metadata": {},
     "output_type": "execute_result"
    }
   ],
   "source": [
    "df.dropna() #drops all records with na"
   ]
  },
  {
   "cell_type": "code",
   "execution_count": 19,
   "id": "ef4d8264",
   "metadata": {},
   "outputs": [],
   "source": [
    "df = pd.DataFrame([{'a':1, 'b':2},{'b':3, 'c':4}])"
   ]
  },
  {
   "cell_type": "code",
   "execution_count": 25,
   "id": "d290314d",
   "metadata": {},
   "outputs": [
    {
     "data": {
      "text/plain": [
       "a    1.0\n",
       "b    5.0\n",
       "c    4.0\n",
       "dtype: float64"
      ]
     },
     "execution_count": 25,
     "metadata": {},
     "output_type": "execute_result"
    }
   ],
   "source": [
    "#fillna(value) or replace(np.nan, replacement_value, inplace=boolean value)\n",
    "\n",
    "df.sum()"
   ]
  },
  {
   "cell_type": "code",
   "execution_count": 27,
   "id": "13dbdf56",
   "metadata": {},
   "outputs": [],
   "source": [
    "total_sum = df.sum().sum()"
   ]
  },
  {
   "cell_type": "code",
   "execution_count": 30,
   "id": "ebd04852",
   "metadata": {},
   "outputs": [],
   "source": [
    "size = df.size"
   ]
  },
  {
   "cell_type": "code",
   "execution_count": 32,
   "id": "1f51e50d",
   "metadata": {},
   "outputs": [
    {
     "data": {
      "text/html": [
       "<div>\n",
       "<style scoped>\n",
       "    .dataframe tbody tr th:only-of-type {\n",
       "        vertical-align: middle;\n",
       "    }\n",
       "\n",
       "    .dataframe tbody tr th {\n",
       "        vertical-align: top;\n",
       "    }\n",
       "\n",
       "    .dataframe thead th {\n",
       "        text-align: right;\n",
       "    }\n",
       "</style>\n",
       "<table border=\"1\" class=\"dataframe\">\n",
       "  <thead>\n",
       "    <tr style=\"text-align: right;\">\n",
       "      <th></th>\n",
       "      <th>a</th>\n",
       "      <th>b</th>\n",
       "      <th>c</th>\n",
       "    </tr>\n",
       "  </thead>\n",
       "  <tbody>\n",
       "    <tr>\n",
       "      <th>0</th>\n",
       "      <td>1.000000</td>\n",
       "      <td>2</td>\n",
       "      <td>1.666667</td>\n",
       "    </tr>\n",
       "    <tr>\n",
       "      <th>1</th>\n",
       "      <td>1.666667</td>\n",
       "      <td>3</td>\n",
       "      <td>4.000000</td>\n",
       "    </tr>\n",
       "  </tbody>\n",
       "</table>\n",
       "</div>"
      ],
      "text/plain": [
       "          a  b         c\n",
       "0  1.000000  2  1.666667\n",
       "1  1.666667  3  4.000000"
      ]
     },
     "execution_count": 32,
     "metadata": {},
     "output_type": "execute_result"
    }
   ],
   "source": [
    "df.fillna(total_sum/size)"
   ]
  },
  {
   "cell_type": "markdown",
   "id": "59a56864",
   "metadata": {},
   "source": [
    "###### Indexing\n",
    "###### for implicit indices use A.iloc[1:3]\n",
    "###### for explicit indices use A.loc[1:3]"
   ]
  },
  {
   "cell_type": "code",
   "execution_count": 2,
   "id": "edc1e824",
   "metadata": {},
   "outputs": [],
   "source": [
    "import pandas as pd\n",
    "import numpy as np\n",
    "from sklearn.impute import SimpleImputer"
   ]
  },
  {
   "cell_type": "markdown",
   "id": "66f3d763",
   "metadata": {},
   "source": [
    "###### Covid-19 Dataset operations"
   ]
  },
  {
   "cell_type": "code",
   "execution_count": 3,
   "id": "f9b00314",
   "metadata": {},
   "outputs": [],
   "source": [
    "df = pd.read_csv('owid-covid-data.csv')"
   ]
  },
  {
   "cell_type": "code",
   "execution_count": 4,
   "id": "0cc912e4",
   "metadata": {},
   "outputs": [
    {
     "data": {
      "text/html": [
       "<div>\n",
       "<style scoped>\n",
       "    .dataframe tbody tr th:only-of-type {\n",
       "        vertical-align: middle;\n",
       "    }\n",
       "\n",
       "    .dataframe tbody tr th {\n",
       "        vertical-align: top;\n",
       "    }\n",
       "\n",
       "    .dataframe thead th {\n",
       "        text-align: right;\n",
       "    }\n",
       "</style>\n",
       "<table border=\"1\" class=\"dataframe\">\n",
       "  <thead>\n",
       "    <tr style=\"text-align: right;\">\n",
       "      <th></th>\n",
       "      <th>iso_code</th>\n",
       "      <th>continent</th>\n",
       "      <th>location</th>\n",
       "      <th>date</th>\n",
       "      <th>total_cases</th>\n",
       "      <th>new_cases</th>\n",
       "      <th>new_cases_smoothed</th>\n",
       "      <th>total_deaths</th>\n",
       "      <th>new_deaths</th>\n",
       "      <th>new_deaths_smoothed</th>\n",
       "      <th>...</th>\n",
       "      <th>female_smokers</th>\n",
       "      <th>male_smokers</th>\n",
       "      <th>handwashing_facilities</th>\n",
       "      <th>hospital_beds_per_thousand</th>\n",
       "      <th>life_expectancy</th>\n",
       "      <th>human_development_index</th>\n",
       "      <th>excess_mortality_cumulative_absolute</th>\n",
       "      <th>excess_mortality_cumulative</th>\n",
       "      <th>excess_mortality</th>\n",
       "      <th>excess_mortality_cumulative_per_million</th>\n",
       "    </tr>\n",
       "  </thead>\n",
       "  <tbody>\n",
       "    <tr>\n",
       "      <th>0</th>\n",
       "      <td>AFG</td>\n",
       "      <td>Asia</td>\n",
       "      <td>Afghanistan</td>\n",
       "      <td>2020-02-24</td>\n",
       "      <td>5.0</td>\n",
       "      <td>5.0</td>\n",
       "      <td>NaN</td>\n",
       "      <td>NaN</td>\n",
       "      <td>NaN</td>\n",
       "      <td>NaN</td>\n",
       "      <td>...</td>\n",
       "      <td>NaN</td>\n",
       "      <td>NaN</td>\n",
       "      <td>37.746</td>\n",
       "      <td>0.5</td>\n",
       "      <td>64.83</td>\n",
       "      <td>0.511</td>\n",
       "      <td>NaN</td>\n",
       "      <td>NaN</td>\n",
       "      <td>NaN</td>\n",
       "      <td>NaN</td>\n",
       "    </tr>\n",
       "    <tr>\n",
       "      <th>1</th>\n",
       "      <td>AFG</td>\n",
       "      <td>Asia</td>\n",
       "      <td>Afghanistan</td>\n",
       "      <td>2020-02-25</td>\n",
       "      <td>5.0</td>\n",
       "      <td>0.0</td>\n",
       "      <td>NaN</td>\n",
       "      <td>NaN</td>\n",
       "      <td>NaN</td>\n",
       "      <td>NaN</td>\n",
       "      <td>...</td>\n",
       "      <td>NaN</td>\n",
       "      <td>NaN</td>\n",
       "      <td>37.746</td>\n",
       "      <td>0.5</td>\n",
       "      <td>64.83</td>\n",
       "      <td>0.511</td>\n",
       "      <td>NaN</td>\n",
       "      <td>NaN</td>\n",
       "      <td>NaN</td>\n",
       "      <td>NaN</td>\n",
       "    </tr>\n",
       "    <tr>\n",
       "      <th>2</th>\n",
       "      <td>AFG</td>\n",
       "      <td>Asia</td>\n",
       "      <td>Afghanistan</td>\n",
       "      <td>2020-02-26</td>\n",
       "      <td>5.0</td>\n",
       "      <td>0.0</td>\n",
       "      <td>NaN</td>\n",
       "      <td>NaN</td>\n",
       "      <td>NaN</td>\n",
       "      <td>NaN</td>\n",
       "      <td>...</td>\n",
       "      <td>NaN</td>\n",
       "      <td>NaN</td>\n",
       "      <td>37.746</td>\n",
       "      <td>0.5</td>\n",
       "      <td>64.83</td>\n",
       "      <td>0.511</td>\n",
       "      <td>NaN</td>\n",
       "      <td>NaN</td>\n",
       "      <td>NaN</td>\n",
       "      <td>NaN</td>\n",
       "    </tr>\n",
       "    <tr>\n",
       "      <th>3</th>\n",
       "      <td>AFG</td>\n",
       "      <td>Asia</td>\n",
       "      <td>Afghanistan</td>\n",
       "      <td>2020-02-27</td>\n",
       "      <td>5.0</td>\n",
       "      <td>0.0</td>\n",
       "      <td>NaN</td>\n",
       "      <td>NaN</td>\n",
       "      <td>NaN</td>\n",
       "      <td>NaN</td>\n",
       "      <td>...</td>\n",
       "      <td>NaN</td>\n",
       "      <td>NaN</td>\n",
       "      <td>37.746</td>\n",
       "      <td>0.5</td>\n",
       "      <td>64.83</td>\n",
       "      <td>0.511</td>\n",
       "      <td>NaN</td>\n",
       "      <td>NaN</td>\n",
       "      <td>NaN</td>\n",
       "      <td>NaN</td>\n",
       "    </tr>\n",
       "    <tr>\n",
       "      <th>4</th>\n",
       "      <td>AFG</td>\n",
       "      <td>Asia</td>\n",
       "      <td>Afghanistan</td>\n",
       "      <td>2020-02-28</td>\n",
       "      <td>5.0</td>\n",
       "      <td>0.0</td>\n",
       "      <td>NaN</td>\n",
       "      <td>NaN</td>\n",
       "      <td>NaN</td>\n",
       "      <td>NaN</td>\n",
       "      <td>...</td>\n",
       "      <td>NaN</td>\n",
       "      <td>NaN</td>\n",
       "      <td>37.746</td>\n",
       "      <td>0.5</td>\n",
       "      <td>64.83</td>\n",
       "      <td>0.511</td>\n",
       "      <td>NaN</td>\n",
       "      <td>NaN</td>\n",
       "      <td>NaN</td>\n",
       "      <td>NaN</td>\n",
       "    </tr>\n",
       "    <tr>\n",
       "      <th>...</th>\n",
       "      <td>...</td>\n",
       "      <td>...</td>\n",
       "      <td>...</td>\n",
       "      <td>...</td>\n",
       "      <td>...</td>\n",
       "      <td>...</td>\n",
       "      <td>...</td>\n",
       "      <td>...</td>\n",
       "      <td>...</td>\n",
       "      <td>...</td>\n",
       "      <td>...</td>\n",
       "      <td>...</td>\n",
       "      <td>...</td>\n",
       "      <td>...</td>\n",
       "      <td>...</td>\n",
       "      <td>...</td>\n",
       "      <td>...</td>\n",
       "      <td>...</td>\n",
       "      <td>...</td>\n",
       "      <td>...</td>\n",
       "      <td>...</td>\n",
       "    </tr>\n",
       "    <tr>\n",
       "      <th>166321</th>\n",
       "      <td>ZWE</td>\n",
       "      <td>Africa</td>\n",
       "      <td>Zimbabwe</td>\n",
       "      <td>2022-03-01</td>\n",
       "      <td>236871.0</td>\n",
       "      <td>491.0</td>\n",
       "      <td>413.000</td>\n",
       "      <td>5395.0</td>\n",
       "      <td>0.0</td>\n",
       "      <td>1.000</td>\n",
       "      <td>...</td>\n",
       "      <td>1.6</td>\n",
       "      <td>30.7</td>\n",
       "      <td>36.791</td>\n",
       "      <td>1.7</td>\n",
       "      <td>61.49</td>\n",
       "      <td>0.571</td>\n",
       "      <td>NaN</td>\n",
       "      <td>NaN</td>\n",
       "      <td>NaN</td>\n",
       "      <td>NaN</td>\n",
       "    </tr>\n",
       "    <tr>\n",
       "      <th>166322</th>\n",
       "      <td>ZWE</td>\n",
       "      <td>Africa</td>\n",
       "      <td>Zimbabwe</td>\n",
       "      <td>2022-03-02</td>\n",
       "      <td>237503.0</td>\n",
       "      <td>632.0</td>\n",
       "      <td>416.286</td>\n",
       "      <td>5396.0</td>\n",
       "      <td>1.0</td>\n",
       "      <td>1.143</td>\n",
       "      <td>...</td>\n",
       "      <td>1.6</td>\n",
       "      <td>30.7</td>\n",
       "      <td>36.791</td>\n",
       "      <td>1.7</td>\n",
       "      <td>61.49</td>\n",
       "      <td>0.571</td>\n",
       "      <td>NaN</td>\n",
       "      <td>NaN</td>\n",
       "      <td>NaN</td>\n",
       "      <td>NaN</td>\n",
       "    </tr>\n",
       "    <tr>\n",
       "      <th>166323</th>\n",
       "      <td>ZWE</td>\n",
       "      <td>Africa</td>\n",
       "      <td>Zimbabwe</td>\n",
       "      <td>2022-03-03</td>\n",
       "      <td>237503.0</td>\n",
       "      <td>0.0</td>\n",
       "      <td>362.286</td>\n",
       "      <td>5396.0</td>\n",
       "      <td>0.0</td>\n",
       "      <td>0.857</td>\n",
       "      <td>...</td>\n",
       "      <td>1.6</td>\n",
       "      <td>30.7</td>\n",
       "      <td>36.791</td>\n",
       "      <td>1.7</td>\n",
       "      <td>61.49</td>\n",
       "      <td>0.571</td>\n",
       "      <td>NaN</td>\n",
       "      <td>NaN</td>\n",
       "      <td>NaN</td>\n",
       "      <td>NaN</td>\n",
       "    </tr>\n",
       "    <tr>\n",
       "      <th>166324</th>\n",
       "      <td>ZWE</td>\n",
       "      <td>Africa</td>\n",
       "      <td>Zimbabwe</td>\n",
       "      <td>2022-03-04</td>\n",
       "      <td>238739.0</td>\n",
       "      <td>1236.0</td>\n",
       "      <td>467.429</td>\n",
       "      <td>5397.0</td>\n",
       "      <td>1.0</td>\n",
       "      <td>0.714</td>\n",
       "      <td>...</td>\n",
       "      <td>1.6</td>\n",
       "      <td>30.7</td>\n",
       "      <td>36.791</td>\n",
       "      <td>1.7</td>\n",
       "      <td>61.49</td>\n",
       "      <td>0.571</td>\n",
       "      <td>NaN</td>\n",
       "      <td>NaN</td>\n",
       "      <td>NaN</td>\n",
       "      <td>NaN</td>\n",
       "    </tr>\n",
       "    <tr>\n",
       "      <th>166325</th>\n",
       "      <td>ZWE</td>\n",
       "      <td>Africa</td>\n",
       "      <td>Zimbabwe</td>\n",
       "      <td>2022-03-05</td>\n",
       "      <td>239019.0</td>\n",
       "      <td>280.0</td>\n",
       "      <td>459.429</td>\n",
       "      <td>5397.0</td>\n",
       "      <td>0.0</td>\n",
       "      <td>0.571</td>\n",
       "      <td>...</td>\n",
       "      <td>1.6</td>\n",
       "      <td>30.7</td>\n",
       "      <td>36.791</td>\n",
       "      <td>1.7</td>\n",
       "      <td>61.49</td>\n",
       "      <td>0.571</td>\n",
       "      <td>NaN</td>\n",
       "      <td>NaN</td>\n",
       "      <td>NaN</td>\n",
       "      <td>NaN</td>\n",
       "    </tr>\n",
       "  </tbody>\n",
       "</table>\n",
       "<p>166326 rows × 67 columns</p>\n",
       "</div>"
      ],
      "text/plain": [
       "       iso_code continent     location        date  total_cases  new_cases  \\\n",
       "0           AFG      Asia  Afghanistan  2020-02-24          5.0        5.0   \n",
       "1           AFG      Asia  Afghanistan  2020-02-25          5.0        0.0   \n",
       "2           AFG      Asia  Afghanistan  2020-02-26          5.0        0.0   \n",
       "3           AFG      Asia  Afghanistan  2020-02-27          5.0        0.0   \n",
       "4           AFG      Asia  Afghanistan  2020-02-28          5.0        0.0   \n",
       "...         ...       ...          ...         ...          ...        ...   \n",
       "166321      ZWE    Africa     Zimbabwe  2022-03-01     236871.0      491.0   \n",
       "166322      ZWE    Africa     Zimbabwe  2022-03-02     237503.0      632.0   \n",
       "166323      ZWE    Africa     Zimbabwe  2022-03-03     237503.0        0.0   \n",
       "166324      ZWE    Africa     Zimbabwe  2022-03-04     238739.0     1236.0   \n",
       "166325      ZWE    Africa     Zimbabwe  2022-03-05     239019.0      280.0   \n",
       "\n",
       "        new_cases_smoothed  total_deaths  new_deaths  new_deaths_smoothed  \\\n",
       "0                      NaN           NaN         NaN                  NaN   \n",
       "1                      NaN           NaN         NaN                  NaN   \n",
       "2                      NaN           NaN         NaN                  NaN   \n",
       "3                      NaN           NaN         NaN                  NaN   \n",
       "4                      NaN           NaN         NaN                  NaN   \n",
       "...                    ...           ...         ...                  ...   \n",
       "166321             413.000        5395.0         0.0                1.000   \n",
       "166322             416.286        5396.0         1.0                1.143   \n",
       "166323             362.286        5396.0         0.0                0.857   \n",
       "166324             467.429        5397.0         1.0                0.714   \n",
       "166325             459.429        5397.0         0.0                0.571   \n",
       "\n",
       "        ...  female_smokers  male_smokers  handwashing_facilities  \\\n",
       "0       ...             NaN           NaN                  37.746   \n",
       "1       ...             NaN           NaN                  37.746   \n",
       "2       ...             NaN           NaN                  37.746   \n",
       "3       ...             NaN           NaN                  37.746   \n",
       "4       ...             NaN           NaN                  37.746   \n",
       "...     ...             ...           ...                     ...   \n",
       "166321  ...             1.6          30.7                  36.791   \n",
       "166322  ...             1.6          30.7                  36.791   \n",
       "166323  ...             1.6          30.7                  36.791   \n",
       "166324  ...             1.6          30.7                  36.791   \n",
       "166325  ...             1.6          30.7                  36.791   \n",
       "\n",
       "        hospital_beds_per_thousand  life_expectancy  human_development_index  \\\n",
       "0                              0.5            64.83                    0.511   \n",
       "1                              0.5            64.83                    0.511   \n",
       "2                              0.5            64.83                    0.511   \n",
       "3                              0.5            64.83                    0.511   \n",
       "4                              0.5            64.83                    0.511   \n",
       "...                            ...              ...                      ...   \n",
       "166321                         1.7            61.49                    0.571   \n",
       "166322                         1.7            61.49                    0.571   \n",
       "166323                         1.7            61.49                    0.571   \n",
       "166324                         1.7            61.49                    0.571   \n",
       "166325                         1.7            61.49                    0.571   \n",
       "\n",
       "        excess_mortality_cumulative_absolute  excess_mortality_cumulative  \\\n",
       "0                                        NaN                          NaN   \n",
       "1                                        NaN                          NaN   \n",
       "2                                        NaN                          NaN   \n",
       "3                                        NaN                          NaN   \n",
       "4                                        NaN                          NaN   \n",
       "...                                      ...                          ...   \n",
       "166321                                   NaN                          NaN   \n",
       "166322                                   NaN                          NaN   \n",
       "166323                                   NaN                          NaN   \n",
       "166324                                   NaN                          NaN   \n",
       "166325                                   NaN                          NaN   \n",
       "\n",
       "        excess_mortality  excess_mortality_cumulative_per_million  \n",
       "0                    NaN                                      NaN  \n",
       "1                    NaN                                      NaN  \n",
       "2                    NaN                                      NaN  \n",
       "3                    NaN                                      NaN  \n",
       "4                    NaN                                      NaN  \n",
       "...                  ...                                      ...  \n",
       "166321               NaN                                      NaN  \n",
       "166322               NaN                                      NaN  \n",
       "166323               NaN                                      NaN  \n",
       "166324               NaN                                      NaN  \n",
       "166325               NaN                                      NaN  \n",
       "\n",
       "[166326 rows x 67 columns]"
      ]
     },
     "execution_count": 4,
     "metadata": {},
     "output_type": "execute_result"
    }
   ],
   "source": [
    "df"
   ]
  },
  {
   "cell_type": "code",
   "execution_count": 5,
   "id": "96e97c61",
   "metadata": {},
   "outputs": [
    {
     "data": {
      "text/plain": [
       "iso_code                                        0\n",
       "continent                                    9956\n",
       "location                                        0\n",
       "date                                            0\n",
       "total_cases                                  3033\n",
       "                                            ...  \n",
       "human_development_index                     30073\n",
       "excess_mortality_cumulative_absolute       160630\n",
       "excess_mortality_cumulative                160630\n",
       "excess_mortality                           160630\n",
       "excess_mortality_cumulative_per_million    160630\n",
       "Length: 67, dtype: int64"
      ]
     },
     "execution_count": 5,
     "metadata": {},
     "output_type": "execute_result"
    }
   ],
   "source": [
    "df.isnull().sum()"
   ]
  },
  {
   "cell_type": "code",
   "execution_count": 6,
   "id": "a75db7ed",
   "metadata": {},
   "outputs": [
    {
     "data": {
      "text/plain": [
       "iso_code                                   166326\n",
       "continent                                  156370\n",
       "location                                   166326\n",
       "date                                       166326\n",
       "total_cases                                163293\n",
       "                                            ...  \n",
       "human_development_index                    136253\n",
       "excess_mortality_cumulative_absolute         5696\n",
       "excess_mortality_cumulative                  5696\n",
       "excess_mortality                             5696\n",
       "excess_mortality_cumulative_per_million      5696\n",
       "Length: 67, dtype: int64"
      ]
     },
     "execution_count": 6,
     "metadata": {},
     "output_type": "execute_result"
    }
   ],
   "source": [
    "df.notnull().sum()"
   ]
  },
  {
   "cell_type": "code",
   "execution_count": 7,
   "id": "d329a7be",
   "metadata": {},
   "outputs": [
    {
     "data": {
      "text/plain": [
       "Index(['iso_code', 'continent', 'location', 'date', 'total_cases', 'new_cases',\n",
       "       'new_cases_smoothed', 'total_deaths', 'new_deaths',\n",
       "       'new_deaths_smoothed', 'total_cases_per_million',\n",
       "       'new_cases_per_million', 'new_cases_smoothed_per_million',\n",
       "       'total_deaths_per_million', 'new_deaths_per_million',\n",
       "       'new_deaths_smoothed_per_million', 'reproduction_rate', 'icu_patients',\n",
       "       'icu_patients_per_million', 'hosp_patients',\n",
       "       'hosp_patients_per_million', 'weekly_icu_admissions',\n",
       "       'weekly_icu_admissions_per_million', 'weekly_hosp_admissions',\n",
       "       'weekly_hosp_admissions_per_million', 'new_tests', 'total_tests',\n",
       "       'total_tests_per_thousand', 'new_tests_per_thousand',\n",
       "       'new_tests_smoothed', 'new_tests_smoothed_per_thousand',\n",
       "       'positive_rate', 'tests_per_case', 'tests_units', 'total_vaccinations',\n",
       "       'people_vaccinated', 'people_fully_vaccinated', 'total_boosters',\n",
       "       'new_vaccinations', 'new_vaccinations_smoothed',\n",
       "       'total_vaccinations_per_hundred', 'people_vaccinated_per_hundred',\n",
       "       'people_fully_vaccinated_per_hundred', 'total_boosters_per_hundred',\n",
       "       'new_vaccinations_smoothed_per_million',\n",
       "       'new_people_vaccinated_smoothed',\n",
       "       'new_people_vaccinated_smoothed_per_hundred', 'stringency_index',\n",
       "       'population', 'population_density', 'median_age', 'aged_65_older',\n",
       "       'aged_70_older', 'gdp_per_capita', 'extreme_poverty',\n",
       "       'cardiovasc_death_rate', 'diabetes_prevalence', 'female_smokers',\n",
       "       'male_smokers', 'handwashing_facilities', 'hospital_beds_per_thousand',\n",
       "       'life_expectancy', 'human_development_index',\n",
       "       'excess_mortality_cumulative_absolute', 'excess_mortality_cumulative',\n",
       "       'excess_mortality', 'excess_mortality_cumulative_per_million'],\n",
       "      dtype='object')"
      ]
     },
     "execution_count": 7,
     "metadata": {},
     "output_type": "execute_result"
    }
   ],
   "source": [
    "df.columns"
   ]
  },
  {
   "cell_type": "code",
   "execution_count": 8,
   "id": "b904f779",
   "metadata": {},
   "outputs": [],
   "source": [
    "df.drop?"
   ]
  },
  {
   "cell_type": "code",
   "execution_count": 9,
   "id": "ba2cd961",
   "metadata": {},
   "outputs": [],
   "source": [
    "df.drop(['excess_mortality_cumulative','excess_mortality_cumulative_per_million'],axis= 1, inplace= True )"
   ]
  },
  {
   "cell_type": "code",
   "execution_count": 10,
   "id": "ba522967",
   "metadata": {},
   "outputs": [
    {
     "data": {
      "text/plain": [
       "Index(['iso_code', 'continent', 'location', 'date', 'total_cases', 'new_cases',\n",
       "       'new_cases_smoothed', 'total_deaths', 'new_deaths',\n",
       "       'new_deaths_smoothed', 'total_cases_per_million',\n",
       "       'new_cases_per_million', 'new_cases_smoothed_per_million',\n",
       "       'total_deaths_per_million', 'new_deaths_per_million',\n",
       "       'new_deaths_smoothed_per_million', 'reproduction_rate', 'icu_patients',\n",
       "       'icu_patients_per_million', 'hosp_patients',\n",
       "       'hosp_patients_per_million', 'weekly_icu_admissions',\n",
       "       'weekly_icu_admissions_per_million', 'weekly_hosp_admissions',\n",
       "       'weekly_hosp_admissions_per_million', 'new_tests', 'total_tests',\n",
       "       'total_tests_per_thousand', 'new_tests_per_thousand',\n",
       "       'new_tests_smoothed', 'new_tests_smoothed_per_thousand',\n",
       "       'positive_rate', 'tests_per_case', 'tests_units', 'total_vaccinations',\n",
       "       'people_vaccinated', 'people_fully_vaccinated', 'total_boosters',\n",
       "       'new_vaccinations', 'new_vaccinations_smoothed',\n",
       "       'total_vaccinations_per_hundred', 'people_vaccinated_per_hundred',\n",
       "       'people_fully_vaccinated_per_hundred', 'total_boosters_per_hundred',\n",
       "       'new_vaccinations_smoothed_per_million',\n",
       "       'new_people_vaccinated_smoothed',\n",
       "       'new_people_vaccinated_smoothed_per_hundred', 'stringency_index',\n",
       "       'population', 'population_density', 'median_age', 'aged_65_older',\n",
       "       'aged_70_older', 'gdp_per_capita', 'extreme_poverty',\n",
       "       'cardiovasc_death_rate', 'diabetes_prevalence', 'female_smokers',\n",
       "       'male_smokers', 'handwashing_facilities', 'hospital_beds_per_thousand',\n",
       "       'life_expectancy', 'human_development_index',\n",
       "       'excess_mortality_cumulative_absolute', 'excess_mortality'],\n",
       "      dtype='object')"
      ]
     },
     "execution_count": 10,
     "metadata": {},
     "output_type": "execute_result"
    }
   ],
   "source": [
    "df.columns"
   ]
  },
  {
   "cell_type": "code",
   "execution_count": 11,
   "id": "68c65e16",
   "metadata": {},
   "outputs": [
    {
     "data": {
      "text/plain": [
       "0         2020-02-24\n",
       "1         2020-02-25\n",
       "2         2020-02-26\n",
       "3         2020-02-27\n",
       "4         2020-02-28\n",
       "             ...    \n",
       "166321    2022-03-01\n",
       "166322    2022-03-02\n",
       "166323    2022-03-03\n",
       "166324    2022-03-04\n",
       "166325    2022-03-05\n",
       "Name: date, Length: 166326, dtype: object"
      ]
     },
     "execution_count": 11,
     "metadata": {},
     "output_type": "execute_result"
    }
   ],
   "source": [
    "df['date'] #data is already in pandas date format"
   ]
  },
  {
   "cell_type": "code",
   "execution_count": 12,
   "id": "e46862b3",
   "metadata": {},
   "outputs": [],
   "source": [
    "df['date'] = pd.to_datetime(df['date'])"
   ]
  },
  {
   "cell_type": "code",
   "execution_count": 13,
   "id": "b2042f29",
   "metadata": {},
   "outputs": [
    {
     "data": {
      "text/plain": [
       "0        2020-02-24\n",
       "1        2020-02-25\n",
       "2        2020-02-26\n",
       "3        2020-02-27\n",
       "4        2020-02-28\n",
       "            ...    \n",
       "166321   2022-03-01\n",
       "166322   2022-03-02\n",
       "166323   2022-03-03\n",
       "166324   2022-03-04\n",
       "166325   2022-03-05\n",
       "Name: date, Length: 166326, dtype: datetime64[ns]"
      ]
     },
     "execution_count": 13,
     "metadata": {},
     "output_type": "execute_result"
    }
   ],
   "source": [
    "df['date']"
   ]
  },
  {
   "cell_type": "code",
   "execution_count": 14,
   "id": "44411544",
   "metadata": {},
   "outputs": [
    {
     "data": {
      "text/html": [
       "<div>\n",
       "<style scoped>\n",
       "    .dataframe tbody tr th:only-of-type {\n",
       "        vertical-align: middle;\n",
       "    }\n",
       "\n",
       "    .dataframe tbody tr th {\n",
       "        vertical-align: top;\n",
       "    }\n",
       "\n",
       "    .dataframe thead th {\n",
       "        text-align: right;\n",
       "    }\n",
       "</style>\n",
       "<table border=\"1\" class=\"dataframe\">\n",
       "  <thead>\n",
       "    <tr style=\"text-align: right;\">\n",
       "      <th></th>\n",
       "      <th>total_cases</th>\n",
       "      <th>new_cases</th>\n",
       "      <th>new_cases_smoothed</th>\n",
       "      <th>total_deaths</th>\n",
       "      <th>new_deaths</th>\n",
       "      <th>new_deaths_smoothed</th>\n",
       "      <th>total_cases_per_million</th>\n",
       "      <th>new_cases_per_million</th>\n",
       "      <th>new_cases_smoothed_per_million</th>\n",
       "      <th>total_deaths_per_million</th>\n",
       "      <th>...</th>\n",
       "      <th>cardiovasc_death_rate</th>\n",
       "      <th>diabetes_prevalence</th>\n",
       "      <th>female_smokers</th>\n",
       "      <th>male_smokers</th>\n",
       "      <th>handwashing_facilities</th>\n",
       "      <th>hospital_beds_per_thousand</th>\n",
       "      <th>life_expectancy</th>\n",
       "      <th>human_development_index</th>\n",
       "      <th>excess_mortality_cumulative_absolute</th>\n",
       "      <th>excess_mortality</th>\n",
       "    </tr>\n",
       "  </thead>\n",
       "  <tbody>\n",
       "    <tr>\n",
       "      <th>count</th>\n",
       "      <td>1.632930e+05</td>\n",
       "      <td>1.631330e+05</td>\n",
       "      <td>1.611500e+05</td>\n",
       "      <td>1.454510e+05</td>\n",
       "      <td>145487.000000</td>\n",
       "      <td>143390.000000</td>\n",
       "      <td>162535.000000</td>\n",
       "      <td>162375.000000</td>\n",
       "      <td>160398.000000</td>\n",
       "      <td>144706.000000</td>\n",
       "      <td>...</td>\n",
       "      <td>136778.000000</td>\n",
       "      <td>143949.000000</td>\n",
       "      <td>106050.000000</td>\n",
       "      <td>104595.000000</td>\n",
       "      <td>68569.000000</td>\n",
       "      <td>123664.000000</td>\n",
       "      <td>155268.000000</td>\n",
       "      <td>136253.000000</td>\n",
       "      <td>5.696000e+03</td>\n",
       "      <td>5696.000000</td>\n",
       "    </tr>\n",
       "    <tr>\n",
       "      <th>mean</th>\n",
       "      <td>2.536044e+06</td>\n",
       "      <td>1.157084e+04</td>\n",
       "      <td>1.156560e+04</td>\n",
       "      <td>5.766407e+04</td>\n",
       "      <td>171.137304</td>\n",
       "      <td>172.673031</td>\n",
       "      <td>29447.756785</td>\n",
       "      <td>166.431538</td>\n",
       "      <td>165.507110</td>\n",
       "      <td>509.384956</td>\n",
       "      <td>...</td>\n",
       "      <td>260.214412</td>\n",
       "      <td>8.210922</td>\n",
       "      <td>10.627229</td>\n",
       "      <td>32.778221</td>\n",
       "      <td>50.788710</td>\n",
       "      <td>3.027816</td>\n",
       "      <td>73.576309</td>\n",
       "      <td>0.725587</td>\n",
       "      <td>3.761302e+04</td>\n",
       "      <td>15.967077</td>\n",
       "    </tr>\n",
       "    <tr>\n",
       "      <th>std</th>\n",
       "      <td>1.543441e+07</td>\n",
       "      <td>8.442598e+04</td>\n",
       "      <td>8.257830e+04</td>\n",
       "      <td>3.021145e+05</td>\n",
       "      <td>832.251328</td>\n",
       "      <td>817.024076</td>\n",
       "      <td>51852.379656</td>\n",
       "      <td>683.021740</td>\n",
       "      <td>532.174029</td>\n",
       "      <td>784.551311</td>\n",
       "      <td>...</td>\n",
       "      <td>119.860488</td>\n",
       "      <td>4.495202</td>\n",
       "      <td>10.558306</td>\n",
       "      <td>13.523688</td>\n",
       "      <td>31.811788</td>\n",
       "      <td>2.450110</td>\n",
       "      <td>7.491615</td>\n",
       "      <td>0.149964</td>\n",
       "      <td>1.043065e+05</td>\n",
       "      <td>30.092830</td>\n",
       "    </tr>\n",
       "    <tr>\n",
       "      <th>min</th>\n",
       "      <td>1.000000e+00</td>\n",
       "      <td>0.000000e+00</td>\n",
       "      <td>0.000000e+00</td>\n",
       "      <td>1.000000e+00</td>\n",
       "      <td>0.000000</td>\n",
       "      <td>0.000000</td>\n",
       "      <td>0.001000</td>\n",
       "      <td>0.000000</td>\n",
       "      <td>0.000000</td>\n",
       "      <td>0.000000</td>\n",
       "      <td>...</td>\n",
       "      <td>79.370000</td>\n",
       "      <td>0.990000</td>\n",
       "      <td>0.100000</td>\n",
       "      <td>7.700000</td>\n",
       "      <td>1.188000</td>\n",
       "      <td>0.100000</td>\n",
       "      <td>53.280000</td>\n",
       "      <td>0.394000</td>\n",
       "      <td>-3.772610e+04</td>\n",
       "      <td>-95.920000</td>\n",
       "    </tr>\n",
       "    <tr>\n",
       "      <th>25%</th>\n",
       "      <td>2.001000e+03</td>\n",
       "      <td>1.000000e+00</td>\n",
       "      <td>7.000000e+00</td>\n",
       "      <td>7.900000e+01</td>\n",
       "      <td>0.000000</td>\n",
       "      <td>0.143000</td>\n",
       "      <td>623.579000</td>\n",
       "      <td>0.042000</td>\n",
       "      <td>1.630000</td>\n",
       "      <td>18.580250</td>\n",
       "      <td>...</td>\n",
       "      <td>168.711000</td>\n",
       "      <td>5.310000</td>\n",
       "      <td>1.900000</td>\n",
       "      <td>21.600000</td>\n",
       "      <td>19.351000</td>\n",
       "      <td>1.300000</td>\n",
       "      <td>69.500000</td>\n",
       "      <td>0.602000</td>\n",
       "      <td>-7.515000e+01</td>\n",
       "      <td>-0.752500</td>\n",
       "    </tr>\n",
       "    <tr>\n",
       "      <th>50%</th>\n",
       "      <td>2.611700e+04</td>\n",
       "      <td>7.900000e+01</td>\n",
       "      <td>1.071430e+02</td>\n",
       "      <td>7.830000e+02</td>\n",
       "      <td>2.000000</td>\n",
       "      <td>2.429000</td>\n",
       "      <td>4731.521000</td>\n",
       "      <td>11.439000</td>\n",
       "      <td>18.829000</td>\n",
       "      <td>127.737500</td>\n",
       "      <td>...</td>\n",
       "      <td>243.811000</td>\n",
       "      <td>7.170000</td>\n",
       "      <td>6.300000</td>\n",
       "      <td>31.400000</td>\n",
       "      <td>49.839000</td>\n",
       "      <td>2.400000</td>\n",
       "      <td>75.050000</td>\n",
       "      <td>0.743000</td>\n",
       "      <td>3.424600e+03</td>\n",
       "      <td>7.195000</td>\n",
       "    </tr>\n",
       "    <tr>\n",
       "      <th>75%</th>\n",
       "      <td>2.987020e+05</td>\n",
       "      <td>1.063000e+03</td>\n",
       "      <td>1.146000e+03</td>\n",
       "      <td>7.307000e+03</td>\n",
       "      <td>20.000000</td>\n",
       "      <td>21.286000</td>\n",
       "      <td>37724.466000</td>\n",
       "      <td>101.289500</td>\n",
       "      <td>120.859750</td>\n",
       "      <td>711.954750</td>\n",
       "      <td>...</td>\n",
       "      <td>329.942000</td>\n",
       "      <td>10.430000</td>\n",
       "      <td>19.300000</td>\n",
       "      <td>41.300000</td>\n",
       "      <td>83.241000</td>\n",
       "      <td>4.000000</td>\n",
       "      <td>78.930000</td>\n",
       "      <td>0.845000</td>\n",
       "      <td>2.478462e+04</td>\n",
       "      <td>22.997500</td>\n",
       "    </tr>\n",
       "    <tr>\n",
       "      <th>max</th>\n",
       "      <td>4.451295e+08</td>\n",
       "      <td>4.206334e+06</td>\n",
       "      <td>3.444237e+06</td>\n",
       "      <td>5.995245e+06</td>\n",
       "      <td>18020.000000</td>\n",
       "      <td>14689.143000</td>\n",
       "      <td>706541.904000</td>\n",
       "      <td>51427.491000</td>\n",
       "      <td>16052.608000</td>\n",
       "      <td>6322.263000</td>\n",
       "      <td>...</td>\n",
       "      <td>724.417000</td>\n",
       "      <td>30.530000</td>\n",
       "      <td>44.000000</td>\n",
       "      <td>78.100000</td>\n",
       "      <td>100.000000</td>\n",
       "      <td>13.800000</td>\n",
       "      <td>86.750000</td>\n",
       "      <td>0.957000</td>\n",
       "      <td>1.080748e+06</td>\n",
       "      <td>374.930000</td>\n",
       "    </tr>\n",
       "  </tbody>\n",
       "</table>\n",
       "<p>8 rows × 60 columns</p>\n",
       "</div>"
      ],
      "text/plain": [
       "        total_cases     new_cases  new_cases_smoothed  total_deaths  \\\n",
       "count  1.632930e+05  1.631330e+05        1.611500e+05  1.454510e+05   \n",
       "mean   2.536044e+06  1.157084e+04        1.156560e+04  5.766407e+04   \n",
       "std    1.543441e+07  8.442598e+04        8.257830e+04  3.021145e+05   \n",
       "min    1.000000e+00  0.000000e+00        0.000000e+00  1.000000e+00   \n",
       "25%    2.001000e+03  1.000000e+00        7.000000e+00  7.900000e+01   \n",
       "50%    2.611700e+04  7.900000e+01        1.071430e+02  7.830000e+02   \n",
       "75%    2.987020e+05  1.063000e+03        1.146000e+03  7.307000e+03   \n",
       "max    4.451295e+08  4.206334e+06        3.444237e+06  5.995245e+06   \n",
       "\n",
       "          new_deaths  new_deaths_smoothed  total_cases_per_million  \\\n",
       "count  145487.000000        143390.000000            162535.000000   \n",
       "mean      171.137304           172.673031             29447.756785   \n",
       "std       832.251328           817.024076             51852.379656   \n",
       "min         0.000000             0.000000                 0.001000   \n",
       "25%         0.000000             0.143000               623.579000   \n",
       "50%         2.000000             2.429000              4731.521000   \n",
       "75%        20.000000            21.286000             37724.466000   \n",
       "max     18020.000000         14689.143000            706541.904000   \n",
       "\n",
       "       new_cases_per_million  new_cases_smoothed_per_million  \\\n",
       "count          162375.000000                   160398.000000   \n",
       "mean              166.431538                      165.507110   \n",
       "std               683.021740                      532.174029   \n",
       "min                 0.000000                        0.000000   \n",
       "25%                 0.042000                        1.630000   \n",
       "50%                11.439000                       18.829000   \n",
       "75%               101.289500                      120.859750   \n",
       "max             51427.491000                    16052.608000   \n",
       "\n",
       "       total_deaths_per_million  ...  cardiovasc_death_rate  \\\n",
       "count             144706.000000  ...          136778.000000   \n",
       "mean                 509.384956  ...             260.214412   \n",
       "std                  784.551311  ...             119.860488   \n",
       "min                    0.000000  ...              79.370000   \n",
       "25%                   18.580250  ...             168.711000   \n",
       "50%                  127.737500  ...             243.811000   \n",
       "75%                  711.954750  ...             329.942000   \n",
       "max                 6322.263000  ...             724.417000   \n",
       "\n",
       "       diabetes_prevalence  female_smokers   male_smokers  \\\n",
       "count        143949.000000   106050.000000  104595.000000   \n",
       "mean              8.210922       10.627229      32.778221   \n",
       "std               4.495202       10.558306      13.523688   \n",
       "min               0.990000        0.100000       7.700000   \n",
       "25%               5.310000        1.900000      21.600000   \n",
       "50%               7.170000        6.300000      31.400000   \n",
       "75%              10.430000       19.300000      41.300000   \n",
       "max              30.530000       44.000000      78.100000   \n",
       "\n",
       "       handwashing_facilities  hospital_beds_per_thousand  life_expectancy  \\\n",
       "count            68569.000000               123664.000000    155268.000000   \n",
       "mean                50.788710                    3.027816        73.576309   \n",
       "std                 31.811788                    2.450110         7.491615   \n",
       "min                  1.188000                    0.100000        53.280000   \n",
       "25%                 19.351000                    1.300000        69.500000   \n",
       "50%                 49.839000                    2.400000        75.050000   \n",
       "75%                 83.241000                    4.000000        78.930000   \n",
       "max                100.000000                   13.800000        86.750000   \n",
       "\n",
       "       human_development_index  excess_mortality_cumulative_absolute  \\\n",
       "count            136253.000000                          5.696000e+03   \n",
       "mean                  0.725587                          3.761302e+04   \n",
       "std                   0.149964                          1.043065e+05   \n",
       "min                   0.394000                         -3.772610e+04   \n",
       "25%                   0.602000                         -7.515000e+01   \n",
       "50%                   0.743000                          3.424600e+03   \n",
       "75%                   0.845000                          2.478462e+04   \n",
       "max                   0.957000                          1.080748e+06   \n",
       "\n",
       "       excess_mortality  \n",
       "count       5696.000000  \n",
       "mean          15.967077  \n",
       "std           30.092830  \n",
       "min          -95.920000  \n",
       "25%           -0.752500  \n",
       "50%            7.195000  \n",
       "75%           22.997500  \n",
       "max          374.930000  \n",
       "\n",
       "[8 rows x 60 columns]"
      ]
     },
     "execution_count": 14,
     "metadata": {},
     "output_type": "execute_result"
    }
   ],
   "source": [
    "df.describe()"
   ]
  },
  {
   "cell_type": "code",
   "execution_count": 15,
   "id": "2e5810f4",
   "metadata": {},
   "outputs": [
    {
     "name": "stdout",
     "output_type": "stream",
     "text": [
      "<class 'pandas.core.frame.DataFrame'>\n",
      "RangeIndex: 166326 entries, 0 to 166325\n",
      "Data columns (total 65 columns):\n",
      " #   Column                                      Non-Null Count   Dtype         \n",
      "---  ------                                      --------------   -----         \n",
      " 0   iso_code                                    166326 non-null  object        \n",
      " 1   continent                                   156370 non-null  object        \n",
      " 2   location                                    166326 non-null  object        \n",
      " 3   date                                        166326 non-null  datetime64[ns]\n",
      " 4   total_cases                                 163293 non-null  float64       \n",
      " 5   new_cases                                   163133 non-null  float64       \n",
      " 6   new_cases_smoothed                          161150 non-null  float64       \n",
      " 7   total_deaths                                145451 non-null  float64       \n",
      " 8   new_deaths                                  145487 non-null  float64       \n",
      " 9   new_deaths_smoothed                         143390 non-null  float64       \n",
      " 10  total_cases_per_million                     162535 non-null  float64       \n",
      " 11  new_cases_per_million                       162375 non-null  float64       \n",
      " 12  new_cases_smoothed_per_million              160398 non-null  float64       \n",
      " 13  total_deaths_per_million                    144706 non-null  float64       \n",
      " 14  new_deaths_per_million                      144742 non-null  float64       \n",
      " 15  new_deaths_smoothed_per_million             142651 non-null  float64       \n",
      " 16  reproduction_rate                           125820 non-null  float64       \n",
      " 17  icu_patients                                23463 non-null   float64       \n",
      " 18  icu_patients_per_million                    23463 non-null   float64       \n",
      " 19  hosp_patients                               24617 non-null   float64       \n",
      " 20  hosp_patients_per_million                   24617 non-null   float64       \n",
      " 21  weekly_icu_admissions                       5433 non-null    float64       \n",
      " 22  weekly_icu_admissions_per_million           5433 non-null    float64       \n",
      " 23  weekly_hosp_admissions                      10923 non-null   float64       \n",
      " 24  weekly_hosp_admissions_per_million          10923 non-null   float64       \n",
      " 25  new_tests                                   67317 non-null   float64       \n",
      " 26  total_tests                                 69255 non-null   float64       \n",
      " 27  total_tests_per_thousand                    69255 non-null   float64       \n",
      " 28  new_tests_per_thousand                      67317 non-null   float64       \n",
      " 29  new_tests_smoothed                          84035 non-null   float64       \n",
      " 30  new_tests_smoothed_per_thousand             84035 non-null   float64       \n",
      " 31  positive_rate                               78655 non-null   float64       \n",
      " 32  tests_per_case                              78084 non-null   float64       \n",
      " 33  tests_units                                 86386 non-null   object        \n",
      " 34  total_vaccinations                          45194 non-null   float64       \n",
      " 35  people_vaccinated                           42987 non-null   float64       \n",
      " 36  people_fully_vaccinated                     40241 non-null   float64       \n",
      " 37  total_boosters                              17539 non-null   float64       \n",
      " 38  new_vaccinations                            37447 non-null   float64       \n",
      " 39  new_vaccinations_smoothed                   84398 non-null   float64       \n",
      " 40  total_vaccinations_per_hundred              45194 non-null   float64       \n",
      " 41  people_vaccinated_per_hundred               42987 non-null   float64       \n",
      " 42  people_fully_vaccinated_per_hundred         40241 non-null   float64       \n",
      " 43  total_boosters_per_hundred                  17539 non-null   float64       \n",
      " 44  new_vaccinations_smoothed_per_million       84398 non-null   float64       \n",
      " 45  new_people_vaccinated_smoothed              83088 non-null   float64       \n",
      " 46  new_people_vaccinated_smoothed_per_hundred  83088 non-null   float64       \n",
      " 47  stringency_index                            130072 non-null  float64       \n",
      " 48  population                                  165251 non-null  float64       \n",
      " 49  population_density                          147928 non-null  float64       \n",
      " 50  median_age                                  137831 non-null  float64       \n",
      " 51  aged_65_older                               136337 non-null  float64       \n",
      " 52  aged_70_older                               137092 non-null  float64       \n",
      " 53  gdp_per_capita                              138504 non-null  float64       \n",
      " 54  extreme_poverty                             91215 non-null   float64       \n",
      " 55  cardiovasc_death_rate                       136778 non-null  float64       \n",
      " 56  diabetes_prevalence                         143949 non-null  float64       \n",
      " 57  female_smokers                              106050 non-null  float64       \n",
      " 58  male_smokers                                104595 non-null  float64       \n",
      " 59  handwashing_facilities                      68569 non-null   float64       \n",
      " 60  hospital_beds_per_thousand                  123664 non-null  float64       \n",
      " 61  life_expectancy                             155268 non-null  float64       \n",
      " 62  human_development_index                     136253 non-null  float64       \n",
      " 63  excess_mortality_cumulative_absolute        5696 non-null    float64       \n",
      " 64  excess_mortality                            5696 non-null    float64       \n",
      "dtypes: datetime64[ns](1), float64(60), object(4)\n",
      "memory usage: 82.5+ MB\n"
     ]
    }
   ],
   "source": [
    "df.info()"
   ]
  },
  {
   "cell_type": "code",
   "execution_count": 17,
   "id": "6966310d",
   "metadata": {},
   "outputs": [],
   "source": [
    "df2 = df.groupby?"
   ]
  },
  {
   "cell_type": "code",
   "execution_count": 32,
   "id": "76b71986",
   "metadata": {},
   "outputs": [
    {
     "name": "stderr",
     "output_type": "stream",
     "text": [
      "C:\\Users\\Asus\\AppData\\Local\\Temp/ipykernel_3228/1994832690.py:1: FutureWarning: Indexing with multiple keys (implicitly converted to a tuple of keys) will be deprecated, use a list instead.\n",
      "  df2 = df.groupby(['continent','date'])['continent','total_cases']\n"
     ]
    }
   ],
   "source": [
    "df2 = df.groupby(['continent','date'])['continent','total_cases']"
   ]
  },
  {
   "cell_type": "code",
   "execution_count": 33,
   "id": "de039f67",
   "metadata": {},
   "outputs": [
    {
     "data": {
      "text/html": [
       "<div>\n",
       "<style scoped>\n",
       "    .dataframe tbody tr th:only-of-type {\n",
       "        vertical-align: middle;\n",
       "    }\n",
       "\n",
       "    .dataframe tbody tr th {\n",
       "        vertical-align: top;\n",
       "    }\n",
       "\n",
       "    .dataframe thead th {\n",
       "        text-align: right;\n",
       "    }\n",
       "</style>\n",
       "<table border=\"1\" class=\"dataframe\">\n",
       "  <thead>\n",
       "    <tr style=\"text-align: right;\">\n",
       "      <th></th>\n",
       "      <th>continent</th>\n",
       "      <th>total_cases</th>\n",
       "    </tr>\n",
       "  </thead>\n",
       "  <tbody>\n",
       "    <tr>\n",
       "      <th>0</th>\n",
       "      <td>Asia</td>\n",
       "      <td>5.0</td>\n",
       "    </tr>\n",
       "    <tr>\n",
       "      <th>1</th>\n",
       "      <td>Asia</td>\n",
       "      <td>5.0</td>\n",
       "    </tr>\n",
       "    <tr>\n",
       "      <th>2</th>\n",
       "      <td>Asia</td>\n",
       "      <td>5.0</td>\n",
       "    </tr>\n",
       "    <tr>\n",
       "      <th>3</th>\n",
       "      <td>Asia</td>\n",
       "      <td>5.0</td>\n",
       "    </tr>\n",
       "    <tr>\n",
       "      <th>4</th>\n",
       "      <td>Asia</td>\n",
       "      <td>5.0</td>\n",
       "    </tr>\n",
       "    <tr>\n",
       "      <th>...</th>\n",
       "      <td>...</td>\n",
       "      <td>...</td>\n",
       "    </tr>\n",
       "    <tr>\n",
       "      <th>157261</th>\n",
       "      <td>North America</td>\n",
       "      <td>32.0</td>\n",
       "    </tr>\n",
       "    <tr>\n",
       "      <th>157262</th>\n",
       "      <td>North America</td>\n",
       "      <td>55.0</td>\n",
       "    </tr>\n",
       "    <tr>\n",
       "      <th>157263</th>\n",
       "      <td>North America</td>\n",
       "      <td>74.0</td>\n",
       "    </tr>\n",
       "    <tr>\n",
       "      <th>157264</th>\n",
       "      <td>North America</td>\n",
       "      <td>107.0</td>\n",
       "    </tr>\n",
       "    <tr>\n",
       "      <th>157265</th>\n",
       "      <td>North America</td>\n",
       "      <td>184.0</td>\n",
       "    </tr>\n",
       "  </tbody>\n",
       "</table>\n",
       "<p>22766 rows × 2 columns</p>\n",
       "</div>"
      ],
      "text/plain": [
       "            continent  total_cases\n",
       "0                Asia          5.0\n",
       "1                Asia          5.0\n",
       "2                Asia          5.0\n",
       "3                Asia          5.0\n",
       "4                Asia          5.0\n",
       "...               ...          ...\n",
       "157261  North America         32.0\n",
       "157262  North America         55.0\n",
       "157263  North America         74.0\n",
       "157264  North America        107.0\n",
       "157265  North America        184.0\n",
       "\n",
       "[22766 rows x 2 columns]"
      ]
     },
     "execution_count": 33,
     "metadata": {},
     "output_type": "execute_result"
    }
   ],
   "source": [
    "df2.head(5)"
   ]
  },
  {
   "cell_type": "code",
   "execution_count": 34,
   "id": "a0e34dbf",
   "metadata": {},
   "outputs": [],
   "source": [
    "import matplotlib.pyplot as plt"
   ]
  },
  {
   "cell_type": "code",
   "execution_count": 54,
   "id": "e84f6c41",
   "metadata": {},
   "outputs": [],
   "source": [
    "x = np.linspace(0,10,500)\n",
    "y = np.tan(x)"
   ]
  },
  {
   "cell_type": "code",
   "execution_count": 55,
   "id": "b50ce753",
   "metadata": {},
   "outputs": [
    {
     "data": {
      "text/plain": [
       "[<matplotlib.lines.Line2D at 0x26804c7d4b0>]"
      ]
     },
     "execution_count": 55,
     "metadata": {},
     "output_type": "execute_result"
    },
    {
     "data": {
      "image/png": "[encoded data removed]",
      "text/plain": [
       "<Figure size 432x288 with 1 Axes>"
      ]
     },
     "metadata": {
      "needs_background": "light"
     },
     "output_type": "display_data"
    }
   ],
   "source": [
    "plt.plot(x,y)"
   ]
  },
  {
   "cell_type": "code",
   "execution_count": 57,
   "id": "4964d10e",
   "metadata": {},
   "outputs": [],
   "source": [
    "x = 10\n",
    "y = 30"
   ]
  },
  {
   "cell_type": "code",
   "execution_count": 60,
   "id": "39adec5d",
   "metadata": {},
   "outputs": [
    {
     "data": {
      "text/plain": [
       "<matplotlib.collections.PathCollection at 0x268025cc310>"
      ]
     },
     "execution_count": 60,
     "metadata": {},
     "output_type": "execute_result"
    },
    {
     "data": {
      "image/png": "[encoded data removed]",
      "text/plain": [
       "<Figure size 432x288 with 1 Axes>"
      ]
     },
     "metadata": {
      "needs_background": "light"
     },
     "output_type": "display_data"
    }
   ],
   "source": [
    "plt.scatter(x,y)"
   ]
  },
  {
   "cell_type": "code",
   "execution_count": 72,
   "id": "b8e79d69",
   "metadata": {},
   "outputs": [
    {
     "data": {
      "text/plain": [
       "array([10.,  8.,  9.,  8.,  3.,  9.,  0.,  3.,  8.,  3.])"
      ]
     },
     "execution_count": 72,
     "metadata": {},
     "output_type": "execute_result"
    }
   ],
   "source": [
    "x = np.arange(10)\n",
    "y = np.round(10*np.random.rand(10))\n",
    "y"
   ]
  },
  {
   "cell_type": "code",
   "execution_count": 73,
   "id": "f8922907",
   "metadata": {},
   "outputs": [
    {
     "data": {
      "text/plain": [
       "<matplotlib.collections.PathCollection at 0x2680c2443a0>"
      ]
     },
     "execution_count": 73,
     "metadata": {},
     "output_type": "execute_result"
    },
    {
     "data": {
      "image/png": "[encoded data removed]",
      "text/plain": [
       "<Figure size 432x288 with 1 Axes>"
      ]
     },
     "metadata": {
      "needs_background": "light"
     },
     "output_type": "display_data"
    }
   ],
   "source": [
    "plt.scatter(x,y)"
   ]
  },
  {
   "cell_type": "code",
   "execution_count": null,
   "id": "e9a4a31b",
   "metadata": {},
   "outputs": [],
   "source": []
  }
 ],
 "metadata": {
  "kernelspec": {
   "display_name": "Python 3 (ipykernel)",
   "language": "python",
   "name": "python3"
  },
  "language_info": {
   "codemirror_mode": {
    "name": "ipython",
    "version": 3
   },
   "file_extension": ".py",
   "mimetype": "text/x-python",
   "name": "python",
   "nbconvert_exporter": "python",
   "pygments_lexer": "ipython3",
   "version": "3.10.4"
  }
 },
 "nbformat": 4,
 "nbformat_minor": 5
}
